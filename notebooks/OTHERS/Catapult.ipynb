{
 "cells": [
  {
   "cell_type": "code",
   "execution_count": 1,
   "id": "9f0daa71",
   "metadata": {},
   "outputs": [],
   "source": [
    "write_images = False"
   ]
  },
  {
   "cell_type": "code",
   "execution_count": 2,
   "id": "52f0894a",
   "metadata": {},
   "outputs": [],
   "source": [
    "import numpy as np"
   ]
  },
  {
   "cell_type": "code",
   "execution_count": 3,
   "id": "f6be9ef4",
   "metadata": {},
   "outputs": [],
   "source": [
    "def catapult_distance(x):\n",
    "    \"\"\"Request user input for the catapult.\"\"\"\n",
    "    y = np.zeros((x.shape[0], 1))\n",
    "    for i in range(x.shape[0]):\n",
    "        rotation_axis=x[i, 0]\n",
    "        arm_stop=x[i, 1]\n",
    "        spring_binding_1=x[i, 2]\n",
    "        spring_binding_2=x[i, 3]\n",
    "            \n",
    "        print('Please set the following values:')\n",
    "        print('x_1 = {rotation_axis:.2f} (rotation axis)'.format(rotation_axis=rotation_axis))\n",
    "        print('x_2 = {arm_stop:.2f} (arm stop)'.format(arm_stop=arm_stop))\n",
    "        print('x_3 = {spring_binding_1:.2f} (spring binding 1)'.format(spring_binding_1=spring_binding_1))\n",
    "        print('x_4 = {spring_binding_2:.2f} (spring binding 2)'.format(spring_binding_2=spring_binding_2))\n",
    "        y[i, 0] = float(input('What is the distance? '))\n",
    "    return y"
   ]
  },
  {
   "cell_type": "code",
   "execution_count": 4,
   "id": "d37f870a",
   "metadata": {},
   "outputs": [],
   "source": [
    "from emukit.core import ContinuousParameter, ParameterSpace"
   ]
  },
  {
   "cell_type": "code",
   "execution_count": 5,
   "id": "ddeb5ca9",
   "metadata": {},
   "outputs": [],
   "source": [
    "variable_domain = [0,1]\n",
    "           \n",
    "space = ParameterSpace(\n",
    "          [ContinuousParameter('rotation_axis', *variable_domain), \n",
    "           ContinuousParameter('arm_stop', *variable_domain),\n",
    "           ContinuousParameter('spring_binding_1', *variable_domain),\n",
    "           ContinuousParameter('spring_binding_2', *variable_domain)])"
   ]
  },
  {
   "cell_type": "markdown",
   "id": "658aba1c",
   "metadata": {},
   "source": [
    "## Experimental design"
   ]
  },
  {
   "cell_type": "code",
   "execution_count": 6,
   "id": "f4b55423",
   "metadata": {},
   "outputs": [],
   "source": [
    "from emukit.core.initial_designs import RandomDesign\n",
    "\n"
   ]
  },
  {
   "cell_type": "code",
   "execution_count": 7,
   "id": "322679aa",
   "metadata": {},
   "outputs": [
    {
     "name": "stdout",
     "output_type": "stream",
     "text": [
      "Please set the following values:\n",
      "x_1 = 0.26 (rotation axis)\n",
      "x_2 = 0.16 (arm stop)\n",
      "x_3 = 0.46 (spring binding 1)\n",
      "x_4 = 1.00 (spring binding 2)\n",
      "What is the distance? 12\n",
      "Please set the following values:\n",
      "x_1 = 0.73 (rotation axis)\n",
      "x_2 = 0.30 (arm stop)\n",
      "x_3 = 0.82 (spring binding 1)\n",
      "x_4 = 0.76 (spring binding 2)\n",
      "What is the distance? 10\n",
      "Please set the following values:\n",
      "x_1 = 0.57 (rotation axis)\n",
      "x_2 = 0.45 (arm stop)\n",
      "x_3 = 0.99 (spring binding 1)\n",
      "x_4 = 0.26 (spring binding 2)\n",
      "What is the distance? 4\n",
      "Please set the following values:\n",
      "x_1 = 0.09 (rotation axis)\n",
      "x_2 = 0.53 (arm stop)\n",
      "x_3 = 0.51 (spring binding 1)\n",
      "x_4 = 0.09 (spring binding 2)\n",
      "What is the distance? 5\n",
      "Please set the following values:\n",
      "x_1 = 0.50 (rotation axis)\n",
      "x_2 = 0.22 (arm stop)\n",
      "x_3 = 0.46 (spring binding 1)\n",
      "x_4 = 0.79 (spring binding 2)\n",
      "What is the distance? 2\n"
     ]
    }
   ],
   "source": [
    "design = RandomDesign(space)\n",
    "x = design.get_samples(5)\n",
    "y = catapult_distance(x)"
   ]
  },
  {
   "cell_type": "code",
   "execution_count": 8,
   "id": "a7e82e1f",
   "metadata": {},
   "outputs": [],
   "source": [
    "from GPy.models import GPRegression\n",
    "from emukit.model_wrappers import GPyModelWrapper\n",
    "from emukit.sensitivity.monte_carlo import MonteCarloSensitivity\n"
   ]
  },
  {
   "cell_type": "code",
   "execution_count": 20,
   "id": "61bdc5c2",
   "metadata": {},
   "outputs": [
    {
     "data": {
      "text/html": [
       "<style type=\"text/css\">\n",
       ".pd{\n",
       "    font-family: \"Courier New\", Courier, monospace !important;\n",
       "    width: 100%;\n",
       "    padding: 3px;\n",
       "}\n",
       "</style>\n",
       "\n",
       "<p class=pd>\n",
       "<b>Model</b>: GP regression<br>\n",
       "<b>Objective</b>: 26.123657145473494<br>\n",
       "<b>Number of Parameters</b>: 3<br>\n",
       "<b>Number of Optimization Parameters</b>: 2<br>\n",
       "<b>Updates</b>: True<br>\n",
       "</p>\n",
       "<style type=\"text/css\">\n",
       ".tg  {font-family:\"Courier New\", Courier, monospace !important;padding:2px 3px;word-break:normal;border-collapse:collapse;border-spacing:0;border-color:#DCDCDC;margin:0px auto;width:100%;}\n",
       ".tg td{font-family:\"Courier New\", Courier, monospace !important;font-weight:bold;color:#444;background-color:#F7FDFA;border-style:solid;border-width:1px;overflow:hidden;word-break:normal;border-color:#DCDCDC;}\n",
       ".tg th{font-family:\"Courier New\", Courier, monospace !important;font-weight:normal;color:#fff;background-color:#26ADE4;border-style:solid;border-width:1px;overflow:hidden;word-break:normal;border-color:#DCDCDC;}\n",
       ".tg .tg-left{font-family:\"Courier New\", Courier, monospace !important;font-weight:normal;text-align:left;}\n",
       ".tg .tg-center{font-family:\"Courier New\", Courier, monospace !important;font-weight:normal;text-align:center;}\n",
       ".tg .tg-right{font-family:\"Courier New\", Courier, monospace !important;font-weight:normal;text-align:right;}\n",
       "</style>\n",
       "<table class=\"tg\"><tr><th><b>  GP_regression.         </b></th><th><b>  value</b></th><th><b>constraints</b></th><th><b>priors</b></th></tr>\n",
       "<tr><td class=tg-left>  rbf.variance           </td><td class=tg-right>22500.0</td><td class=tg-center>    +ve    </td><td class=tg-center>      </td></tr>\n",
       "<tr><td class=tg-left>  rbf.lengthscale        </td><td class=tg-right>    1.0</td><td class=tg-center>    +ve    </td><td class=tg-center>      </td></tr>\n",
       "<tr><td class=tg-left>  Gaussian_noise.variance</td><td class=tg-right>  1e-05</td><td class=tg-center> +ve fixed </td><td class=tg-center>      </td></tr>\n",
       "</table>"
      ],
      "text/plain": [
       "<GPy.models.gp_regression.GPRegression at 0x7fb2b23dca30>"
      ]
     },
     "metadata": {},
     "output_type": "display_data"
    }
   ],
   "source": [
    "from GPy import kern\n",
    "# from GPy import likelihoods\n",
    "\n",
    "model_gpy = GPRegression(\n",
    "    X=x, \n",
    "    Y=y, \n",
    "    kernel=kern.RBF(x.shape[1]), \n",
    "    normalizer=False,\n",
    "    noise_var=1.\n",
    ")\n",
    "# Should default to Gaussian likelihood with 0 mean and noise_var variance \n",
    "# likelihood = likelihoods.Gaussian(variance=noise_var)\n",
    "model_gpy.kern.variance = 150**2\n",
    "model_gpy.likelihood.variance.fix(1e-5) # Change noise_var\n",
    "display(model_gpy)"
   ]
  },
  {
   "cell_type": "code",
   "execution_count": 21,
   "id": "313ccf6f",
   "metadata": {},
   "outputs": [],
   "source": [
    "model_emukit = GPyModelWrapper(model_gpy)\n",
    "model_emukit.optimize()"
   ]
  },
  {
   "cell_type": "code",
   "execution_count": 22,
   "id": "0d5ccd59",
   "metadata": {},
   "outputs": [
    {
     "data": {
      "text/html": [
       "<style type=\"text/css\">\n",
       ".pd{\n",
       "    font-family: \"Courier New\", Courier, monospace !important;\n",
       "    width: 100%;\n",
       "    padding: 3px;\n",
       "}\n",
       "</style>\n",
       "\n",
       "<p class=pd>\n",
       "<b>Model</b>: GP regression<br>\n",
       "<b>Objective</b>: 17.1794724394647<br>\n",
       "<b>Number of Parameters</b>: 3<br>\n",
       "<b>Number of Optimization Parameters</b>: 2<br>\n",
       "<b>Updates</b>: True<br>\n",
       "</p>\n",
       "<style type=\"text/css\">\n",
       ".tg  {font-family:\"Courier New\", Courier, monospace !important;padding:2px 3px;word-break:normal;border-collapse:collapse;border-spacing:0;border-color:#DCDCDC;margin:0px auto;width:100%;}\n",
       ".tg td{font-family:\"Courier New\", Courier, monospace !important;font-weight:bold;color:#444;background-color:#F7FDFA;border-style:solid;border-width:1px;overflow:hidden;word-break:normal;border-color:#DCDCDC;}\n",
       ".tg th{font-family:\"Courier New\", Courier, monospace !important;font-weight:normal;color:#fff;background-color:#26ADE4;border-style:solid;border-width:1px;overflow:hidden;word-break:normal;border-color:#DCDCDC;}\n",
       ".tg .tg-left{font-family:\"Courier New\", Courier, monospace !important;font-weight:normal;text-align:left;}\n",
       ".tg .tg-center{font-family:\"Courier New\", Courier, monospace !important;font-weight:normal;text-align:center;}\n",
       ".tg .tg-right{font-family:\"Courier New\", Courier, monospace !important;font-weight:normal;text-align:right;}\n",
       "</style>\n",
       "<table class=\"tg\"><tr><th><b>  GP_regression.         </b></th><th><b>             value</b></th><th><b>constraints</b></th><th><b>priors</b></th></tr>\n",
       "<tr><td class=tg-left>  rbf.variance           </td><td class=tg-right> 57.16879426318768</td><td class=tg-center>    +ve    </td><td class=tg-center>      </td></tr>\n",
       "<tr><td class=tg-left>  rbf.lengthscale        </td><td class=tg-right>0.1887774370217395</td><td class=tg-center>    +ve    </td><td class=tg-center>      </td></tr>\n",
       "<tr><td class=tg-left>  Gaussian_noise.variance</td><td class=tg-right>             1e-05</td><td class=tg-center> +ve fixed </td><td class=tg-center>      </td></tr>\n",
       "</table>"
      ],
      "text/plain": [
       "<GPy.models.gp_regression.GPRegression at 0x7fb2b23dca30>"
      ]
     },
     "metadata": {},
     "output_type": "display_data"
    }
   ],
   "source": [
    "display(model_gpy)"
   ]
  },
  {
   "cell_type": "code",
   "execution_count": 12,
   "id": "9f93a488",
   "metadata": {},
   "outputs": [],
   "source": [
    "from emukit.experimental_design.experimental_design_loop import ExperimentalDesignLoop\n",
    "from emukit.experimental_design.acquisitions import IntegratedVarianceReduction, ModelVariance\n"
   ]
  },
  {
   "cell_type": "code",
   "execution_count": 23,
   "id": "4dda37ef",
   "metadata": {},
   "outputs": [
    {
     "name": "stdout",
     "output_type": "stream",
     "text": [
      "Please set the following values:\n",
      "x_1 = 0.59 (rotation axis)\n",
      "x_2 = 0.52 (arm stop)\n",
      "x_3 = 0.33 (spring binding 1)\n",
      "x_4 = 0.38 (spring binding 2)\n",
      "What is the distance? 2\n",
      "Please set the following values:\n",
      "x_1 = 0.37 (rotation axis)\n",
      "x_2 = 0.68 (arm stop)\n",
      "x_3 = 0.68 (spring binding 1)\n",
      "x_4 = 0.64 (spring binding 2)\n",
      "What is the distance? 25\n",
      "Please set the following values:\n",
      "x_1 = 0.72 (rotation axis)\n",
      "x_2 = 0.73 (arm stop)\n",
      "x_3 = 0.31 (spring binding 1)\n",
      "x_4 = 0.74 (spring binding 2)\n",
      "What is the distance? 13\n",
      "Please set the following values:\n",
      "x_1 = 0.62 (rotation axis)\n",
      "x_2 = 0.76 (arm stop)\n",
      "x_3 = 0.70 (spring binding 1)\n",
      "x_4 = 0.25 (spring binding 2)\n",
      "What is the distance? 26\n",
      "Please set the following values:\n",
      "x_1 = 0.28 (rotation axis)\n",
      "x_2 = 0.70 (arm stop)\n",
      "x_3 = 0.19 (spring binding 1)\n",
      "x_4 = 0.52 (spring binding 2)\n",
      "What is the distance? 5\n",
      "Please set the following values:\n",
      "x_1 = 0.70 (rotation axis)\n",
      "x_2 = 0.29 (arm stop)\n",
      "x_3 = 0.30 (spring binding 1)\n",
      "x_4 = 0.30 (spring binding 2)\n",
      "What is the distance? 23\n",
      "Please set the following values:\n",
      "x_1 = 0.29 (rotation axis)\n",
      "x_2 = 0.24 (arm stop)\n",
      "x_3 = 0.67 (spring binding 1)\n",
      "x_4 = 0.37 (spring binding 2)\n",
      "What is the distance? 12\n",
      "Please set the following values:\n",
      "x_1 = 0.25 (rotation axis)\n",
      "x_2 = 0.24 (arm stop)\n",
      "x_3 = 0.22 (spring binding 1)\n",
      "x_4 = 0.40 (spring binding 2)\n",
      "What is the distance? 17\n",
      "Please set the following values:\n",
      "x_1 = 0.80 (rotation axis)\n",
      "x_2 = 0.26 (arm stop)\n",
      "x_3 = 0.70 (spring binding 1)\n",
      "x_4 = 0.29 (spring binding 2)\n",
      "What is the distance? 9\n",
      "Please set the following values:\n",
      "x_1 = 0.78 (rotation axis)\n",
      "x_2 = 0.76 (arm stop)\n",
      "x_3 = 0.76 (spring binding 1)\n",
      "x_4 = 0.71 (spring binding 2)\n",
      "What is the distance? 4\n"
     ]
    }
   ],
   "source": [
    "integrated_variance = IntegratedVarianceReduction(space=space,\n",
    "                                                  model=model_emukit)\n",
    "ed = ExperimentalDesignLoop(space=space, \n",
    "                            model=model_emukit, \n",
    "                            acquisition = integrated_variance)\n",
    "ed.run_loop(catapult_distance, 10)\n"
   ]
  },
  {
   "cell_type": "markdown",
   "id": "890a82c3",
   "metadata": {},
   "source": [
    "## Sensitivity Analysis"
   ]
  },
  {
   "cell_type": "code",
   "execution_count": 24,
   "id": "0279bd3b",
   "metadata": {},
   "outputs": [],
   "source": [
    "num_mc = 10000\n",
    "senstivity = MonteCarloSensitivity(model = model_emukit, input_domain = space)\n",
    "main_effects_gp, total_effects_gp, _ = senstivity.compute_effects(num_monte_carlo_points = num_mc)"
   ]
  },
  {
   "cell_type": "code",
   "execution_count": 25,
   "id": "1364d87b",
   "metadata": {},
   "outputs": [],
   "source": [
    "import matplotlib.pyplot as plt\n",
    "import mlai.plot as plot\n",
    "import mlai"
   ]
  },
  {
   "cell_type": "code",
   "execution_count": 26,
   "id": "491963b1",
   "metadata": {},
   "outputs": [],
   "source": [
    "import pandas as pd\n"
   ]
  },
  {
   "cell_type": "code",
   "execution_count": 27,
   "id": "1f8309cd",
   "metadata": {},
   "outputs": [
    {
     "data": {
      "image/png": "[encoded data removed]",
      "text/plain": [
       "<Figure size 1000x600 with 1 Axes>"
      ]
     },
     "metadata": {},
     "output_type": "display_data"
    }
   ],
   "source": [
    "fig, ax = plt.subplots(figsize=plot.big_wide_figsize)\n",
    "\n",
    "main_effects_gp_plot = {ivar: main_effects_gp[ivar][0] for ivar in main_effects_gp}\n",
    "\n",
    "d = {'GP Monte Carlo':main_effects_gp_plot}\n",
    "\n",
    "pd.DataFrame(d).plot(kind='bar', ax=ax)\n",
    "plt.ylabel('% of explained output variance')\n",
    "\n",
    "if write_images:\n",
    "    mlai.write_figure(filename='first-order-sobol-indices-gp-catapult.svg', directory='./uq')\n"
   ]
  },
  {
   "cell_type": "code",
   "execution_count": 28,
   "id": "f8cf847f",
   "metadata": {},
   "outputs": [
    {
     "data": {
      "image/png": "[encoded data removed]",
      "text/plain": [
       "<Figure size 1000x600 with 1 Axes>"
      ]
     },
     "metadata": {},
     "output_type": "display_data"
    }
   ],
   "source": [
    "fig, ax = plt.subplots(figsize=plot.big_wide_figsize)\n",
    "\n",
    "total_effects_gp_plot = {ivar: total_effects_gp[ivar][0] for ivar in total_effects_gp}\n",
    "\n",
    "d = {'GP Monte Carlo':total_effects_gp_plot}\n",
    "\n",
    "pd.DataFrame(d).plot(kind='bar', ax=ax)\n",
    "ax.set_ylabel('% of explained output variance')\n",
    "\n",
    "if write_images:\n",
    "    mlai.write_figure(filename='total-effects-sobol-indices-gp-catapult.svg', directory='./uq')"
   ]
  },
  {
   "cell_type": "code",
   "execution_count": null,
   "id": "58a6867d",
   "metadata": {},
   "outputs": [],
   "source": []
  }
 ],
 "metadata": {
  "kernelspec": {
   "display_name": "Python 3 (ipykernel)",
   "language": "python",
   "name": "python3"
  },
  "language_info": {
   "codemirror_mode": {
    "name": "ipython",
    "version": 3
   },
   "file_extension": ".py",
   "mimetype": "text/x-python",
   "name": "python",
   "nbconvert_exporter": "python",
   "pygments_lexer": "ipython3",
   "version": "3.10.6"
  }
 },
 "nbformat": 4,
 "nbformat_minor": 5
}
