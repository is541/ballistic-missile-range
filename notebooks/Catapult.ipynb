{
 "cells": [
  {
   "cell_type": "code",
   "execution_count": null,
   "id": "9f0daa71",
   "metadata": {},
   "outputs": [],
   "source": [
    "write_images = False"
   ]
  },
  {
   "cell_type": "code",
   "execution_count": null,
   "id": "52f0894a",
   "metadata": {},
   "outputs": [],
   "source": [
    "import numpy as np"
   ]
  },
  {
   "cell_type": "code",
   "execution_count": null,
   "id": "f6be9ef4",
   "metadata": {},
   "outputs": [],
   "source": [
    "def catapult_distance(x):\n",
    "    \"\"\"Request user input for the catapult.\"\"\"\n",
    "    y = np.zeros((x.shape[0], 1))\n",
    "    for i in range(x.shape[0]):\n",
    "        rotation_axis=x[i, 0]\n",
    "        arm_stop=x[i, 1]\n",
    "        spring_binding_1=x[i, 2]\n",
    "        spring_binding_2=x[i, 3]\n",
    "            \n",
    "        print('Please set the following values:')\n",
    "        print('x_1 = {rotation_axis:.2f} (rotation axis)'.format(rotation_axis=rotation_axis))\n",
    "        print('x_2 = {arm_stop:.2f} (arm stop)'.format(arm_stop=arm_stop))\n",
    "        print('x_3 = {spring_binding_1:.2f} (spring binding 1)'.format(spring_binding_1=spring_binding_1))\n",
    "        print('x_4 = {spring_binding_2:.2f} (spring binding 2)'.format(spring_binding_2=spring_binding_2))\n",
    "        y[i, 0] = float(input('What is the distance? '))\n",
    "    return y"
   ]
  },
  {
   "cell_type": "code",
   "execution_count": null,
   "id": "d37f870a",
   "metadata": {},
   "outputs": [],
   "source": [
    "from emukit.core import ContinuousParameter, ParameterSpace"
   ]
  },
  {
   "cell_type": "code",
   "execution_count": null,
   "id": "ddeb5ca9",
   "metadata": {},
   "outputs": [],
   "source": [
    "variable_domain = [0,1]\n",
    "           \n",
    "space = ParameterSpace(\n",
    "          [ContinuousParameter('rotation_axis', *variable_domain), \n",
    "           ContinuousParameter('arm_stop', *variable_domain),\n",
    "           ContinuousParameter('spring_binding_1', *variable_domain),\n",
    "           ContinuousParameter('spring_binding_2', *variable_domain)])"
   ]
  },
  {
   "cell_type": "markdown",
   "id": "658aba1c",
   "metadata": {},
   "source": [
    "## Experimental design"
   ]
  },
  {
   "cell_type": "code",
   "execution_count": null,
   "id": "f4b55423",
   "metadata": {},
   "outputs": [],
   "source": [
    "from emukit.core.initial_designs import RandomDesign\n",
    "\n"
   ]
  },
  {
   "cell_type": "code",
   "execution_count": null,
   "id": "322679aa",
   "metadata": {},
   "outputs": [],
   "source": [
    "design = RandomDesign(space)\n",
    "x = design.get_samples(5)\n",
    "y = catapult_distance(x)"
   ]
  },
  {
   "cell_type": "code",
   "execution_count": null,
   "id": "a7e82e1f",
   "metadata": {},
   "outputs": [],
   "source": [
    "from GPy.models import GPRegression\n",
    "from emukit.model_wrappers import GPyModelWrapper\n",
    "from emukit.sensitivity.monte_carlo import MonteCarloSensitivity\n"
   ]
  },
  {
   "cell_type": "code",
   "execution_count": null,
   "id": "61bdc5c2",
   "metadata": {},
   "outputs": [],
   "source": [
    "model_gpy = GPRegression(x,y)\n",
    "model_gpy.kern.variance = 150**2\n",
    "model_gpy.likelihood.variance.fix(1e-5)\n",
    "display(model_gpy)"
   ]
  },
  {
   "cell_type": "code",
   "execution_count": null,
   "id": "313ccf6f",
   "metadata": {},
   "outputs": [],
   "source": [
    "model_emukit = GPyModelWrapper(model_gpy)\n",
    "model_emukit.optimize()"
   ]
  },
  {
   "cell_type": "code",
   "execution_count": null,
   "id": "0d5ccd59",
   "metadata": {},
   "outputs": [],
   "source": [
    "display(model_gpy)"
   ]
  },
  {
   "cell_type": "code",
   "execution_count": null,
   "id": "9f93a488",
   "metadata": {},
   "outputs": [],
   "source": [
    "from emukit.experimental_design.experimental_design_loop import ExperimentalDesignLoop\n",
    "from emukit.experimental_design.acquisitions import IntegratedVarianceReduction, ModelVariance\n"
   ]
  },
  {
   "cell_type": "code",
   "execution_count": null,
   "id": "4dda37ef",
   "metadata": {},
   "outputs": [],
   "source": [
    "integrated_variance = IntegratedVarianceReduction(space=space,\n",
    "                                                  model=model_emukit)\n",
    "ed = ExperimentalDesignLoop(space=space, \n",
    "                            model=model_emukit, \n",
    "                            acquisition = integrated_variance)\n",
    "ed.run_loop(catapult_distance, 10)\n"
   ]
  },
  {
   "cell_type": "markdown",
   "id": "890a82c3",
   "metadata": {},
   "source": [
    "## Sensitivity Analysis"
   ]
  },
  {
   "cell_type": "code",
   "execution_count": null,
   "id": "0279bd3b",
   "metadata": {},
   "outputs": [],
   "source": [
    "num_mc = 10000\n",
    "senstivity = MonteCarloSensitivity(model = model_emukit, input_domain = space)\n",
    "main_effects_gp, total_effects_gp, _ = senstivity.compute_effects(num_monte_carlo_points = num_mc)"
   ]
  },
  {
   "cell_type": "code",
   "execution_count": null,
   "id": "1364d87b",
   "metadata": {},
   "outputs": [],
   "source": [
    "import matplotlib.pyplot as plt\n",
    "import mlai.plot as plot\n",
    "import mlai"
   ]
  },
  {
   "cell_type": "code",
   "execution_count": null,
   "id": "491963b1",
   "metadata": {},
   "outputs": [],
   "source": [
    "import pandas as pd\n"
   ]
  },
  {
   "cell_type": "code",
   "execution_count": null,
   "id": "1f8309cd",
   "metadata": {},
   "outputs": [],
   "source": [
    "fig, ax = plt.subplots(figsize=plot.big_wide_figsize)\n",
    "\n",
    "main_effects_gp_plot = {ivar: main_effects_gp[ivar][0] for ivar in main_effects_gp}\n",
    "\n",
    "d = {'GP Monte Carlo':main_effects_gp_plot}\n",
    "\n",
    "pd.DataFrame(d).plot(kind='bar', ax=ax)\n",
    "plt.ylabel('% of explained output variance')\n",
    "\n",
    "if write_images:\n",
    "    mlai.write_figure(filename='first-order-sobol-indices-gp-catapult.svg', directory='./uq')\n"
   ]
  },
  {
   "cell_type": "code",
   "execution_count": null,
   "id": "f8cf847f",
   "metadata": {},
   "outputs": [],
   "source": [
    "fig, ax = plt.subplots(figsize=plot.big_wide_figsize)\n",
    "\n",
    "total_effects_gp_plot = {ivar: total_effects_gp[ivar][0] for ivar in total_effects_gp}\n",
    "\n",
    "d = {'GP Monte Carlo':total_effects_gp_plot}\n",
    "\n",
    "pd.DataFrame(d).plot(kind='bar', ax=ax)\n",
    "ax.set_ylabel('% of explained output variance')\n",
    "\n",
    "if write_images:\n",
    "    mlai.write_figure(filename='total-effects-sobol-indices-gp-catapult.svg', directory='./uq')"
   ]
  },
  {
   "cell_type": "code",
   "execution_count": null,
   "id": "58a6867d",
   "metadata": {},
   "outputs": [],
   "source": []
  }
 ],
 "metadata": {
  "kernelspec": {
   "display_name": "Python 3 (ipykernel)",
   "language": "python",
   "name": "python3"
  },
  "language_info": {
   "codemirror_mode": {
    "name": "ipython",
    "version": 3
   },
   "file_extension": ".py",
   "mimetype": "text/x-python",
   "name": "python",
   "nbconvert_exporter": "python",
   "pygments_lexer": "ipython3",
   "version": "3.10.6"
  }
 },
 "nbformat": 4,
 "nbformat_minor": 5
}
