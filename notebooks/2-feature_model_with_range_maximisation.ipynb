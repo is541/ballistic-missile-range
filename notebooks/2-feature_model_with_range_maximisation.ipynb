{
 "cells": [
  {
   "cell_type": "code",
   "execution_count": null,
   "id": "9f0daa71",
   "metadata": {},
   "outputs": [],
   "source": [
    "write_images = False\n",
    "\n",
    "\n",
    "wirte_output_txt = False \n",
    "# Specify everytime Simulation is called \n",
    "# WARNING --> Set to False when running more then 10 simulations \n",
    "#            (otherwise it will be super slow and might crash)"
   ]
  },
  {
   "cell_type": "code",
   "execution_count": null,
   "id": "52f0894a",
   "metadata": {},
   "outputs": [],
   "source": [
    "import numpy as np"
   ]
  },
  {
   "cell_type": "code",
   "execution_count": null,
   "id": "93f2edae",
   "metadata": {},
   "outputs": [],
   "source": [
    "from emukit.core import ContinuousParameter, ParameterSpace\n",
    "from emukit.core.initial_designs import RandomDesign\n",
    "\n",
    "import GPy\n",
    "from GPy.models import GPRegression\n",
    "from emukit.model_wrappers import GPyModelWrapper\n",
    "from emukit.sensitivity.monte_carlo import MonteCarloSensitivity\n",
    "\n",
    "import matplotlib.pyplot as plt\n",
    "import mlai.plot as plot"
   ]
  },
  {
   "cell_type": "code",
   "execution_count": null,
   "id": "4c62ad75",
   "metadata": {},
   "outputs": [],
   "source": [
    "%run Missile_utils.ipynb"
   ]
  },
  {
   "cell_type": "code",
   "execution_count": null,
   "id": "4d4b5722",
   "metadata": {},
   "outputs": [],
   "source": []
  },
  {
   "cell_type": "code",
   "execution_count": null,
   "id": "5d80bf71",
   "metadata": {},
   "outputs": [],
   "source": [
    "simulation_output = 'range' \n",
    "# We divide by 1000 to avoid dealing with too large numbers"
   ]
  },
  {
   "cell_type": "code",
   "execution_count": null,
   "id": "d37f870a",
   "metadata": {},
   "outputs": [],
   "source": [
    "run_grid_simulation = True # If true takes much longer and does 3D plots and so on for MODEL with 2 FEATS\n"
   ]
  },
  {
   "cell_type": "code",
   "execution_count": null,
   "id": "f8909363",
   "metadata": {},
   "outputs": [],
   "source": []
  },
  {
   "cell_type": "markdown",
   "id": "45d81059",
   "metadata": {},
   "source": [
    "We consider missiles with only 1 stage"
   ]
  },
  {
   "cell_type": "code",
   "execution_count": null,
   "id": "8f920a96",
   "metadata": {},
   "outputs": [],
   "source": [
    "\n",
    "basic_param_spaces = {\n",
    "    'payload':  [10, 2410],\n",
    "    'missilediam':  [0.1, 9.9],\n",
    "    'rvdiam':  [0.1, 9.9],\n",
    "    'estrange': [100, 4900], \n",
    "    'fuelmass': [500, 6000], # [500, 6000], \n",
    "    'drymass':  [1000, 3000],\n",
    "    'Isp0':  [100, 800],# [100, 800],\n",
    "    'thrust0':  [10000, 69000],\n",
    "}"
   ]
  },
  {
   "cell_type": "code",
   "execution_count": null,
   "id": "a042122c",
   "metadata": {},
   "outputs": [],
   "source": [
    "from sklearn.metrics import mean_squared_error\n",
    "import math\n",
    "\n",
    "def compute_rmse(y_actual, y_predicted):\n",
    "    MSE = mean_squared_error(y_actual, y_predicted)\n",
    "    RMSE = math.sqrt(MSE)\n",
    " \n",
    "    return RMSE\n",
    "\n",
    "def evaluate_prediction(y_actual, y_predicted):\n",
    "    return compute_rmse(y_actual, y_predicted)\n",
    "    "
   ]
  },
  {
   "cell_type": "code",
   "execution_count": null,
   "id": "5bf4723b",
   "metadata": {},
   "outputs": [],
   "source": []
  },
  {
   "cell_type": "markdown",
   "id": "6726a418",
   "metadata": {},
   "source": [
    "# 1. Two params"
   ]
  },
  {
   "cell_type": "code",
   "execution_count": null,
   "id": "8e3fd93b",
   "metadata": {},
   "outputs": [],
   "source": [
    "m2_param_1 = 'fuelmass'\n",
    "m2_domain_param_1 = basic_param_spaces[m2_param_1] \n",
    "m2_param_2 = 'Isp0'\n",
    "m2_domain_param_2 = basic_param_spaces[m2_param_2] \n",
    "\n",
    "m2_space = ParameterSpace(\n",
    "          [ContinuousParameter(m2_param_1, *m2_domain_param_1), \n",
    "           ContinuousParameter(m2_param_2, *m2_domain_param_2),\n",
    "          ])\n",
    "\n",
    "custom_param_names = [m2_param_1, m2_param_2]"
   ]
  },
  {
   "cell_type": "code",
   "execution_count": null,
   "id": "a4acc4e4",
   "metadata": {},
   "outputs": [],
   "source": [
    "def run_missile_sim(custom_params):\n",
    "    \"\"\"\n",
    "    Recives in input an array of custom parameters.\n",
    "    Each row represents a set of different parameters\n",
    "    Each column is a different parameter (#cols = len(custom_param_names))\n",
    "    \"\"\"\n",
    "    default_params_IRAQ = {\n",
    "        'payload':500,\n",
    "        'missilediam':0.88,\n",
    "        'rvdiam':0,\n",
    "        'estrange':600,\n",
    "        'numstages':1,\n",
    "        'fuelmass':[0,5600],\n",
    "        'drymass':[0,1200],\n",
    "        'Isp0':[0,226],\n",
    "        'thrust0':[0,9177.4]\n",
    "    }\n",
    "    \n",
    "    \n",
    "    y = np.zeros((custom_params.shape[0], 1))\n",
    "    for i in range(custom_params.shape[0]):\n",
    "        params_to_use = default_params_IRAQ\n",
    "        # Overwrite default param variables\n",
    "        for j in range(custom_params.shape[1]):\n",
    "            param_name = custom_param_names[j]\n",
    "            if param_name in ['fuelmass', 'drymass', 'Isp0', 'thrust0']:\n",
    "                params_to_use[param_name][1] = custom_params[i,j]\n",
    "            else:\n",
    "                params_to_use[param_name] = custom_params[i, j]\n",
    "                \n",
    "            if j==0:\n",
    "                print('\\nNew simulation \\n')\n",
    "            str_to_print = param_name + ': ' + str(custom_params[i,j])\n",
    "            print(str_to_print)\n",
    "                \n",
    "        # Run simulation\n",
    "        output_path = 'results/results_' + str(i) + '.txt'\n",
    "        sim_output = run_one_sim(\n",
    "            numstages=params_to_use[\"numstages\"], \n",
    "            fuelmass=params_to_use[\"fuelmass\"], \n",
    "            drymass=params_to_use[\"drymass\"], \n",
    "            thrust0=params_to_use[\"thrust0\"], \n",
    "            Isp0=params_to_use[\"Isp0\"], \n",
    "            payload=params_to_use[\"payload\"],  \n",
    "            missilediam=params_to_use[\"missilediam\"],  \n",
    "            rvdiam=params_to_use[\"rvdiam\"], \n",
    "            est_range=params_to_use[\"estrange\"], \n",
    "            output_path=output_path, \n",
    "            simulation_output=simulation_output,\n",
    "        )\n",
    "        \n",
    "        y[i, 0] = sim_output\n",
    "    return y\n",
    "\n",
    "\n",
    "def neg_run_missile_sim(custom_params):\n",
    "    return -run_missile_sim(custom_params)\n",
    "    \n",
    "    "
   ]
  },
  {
   "cell_type": "markdown",
   "id": "658aba1c",
   "metadata": {},
   "source": [
    "## 1. Experimental design"
   ]
  },
  {
   "cell_type": "markdown",
   "id": "0f0d99fe",
   "metadata": {},
   "source": [
    "### Use model-free experimental design to start\n",
    " (RandomDesign or Latin Design)"
   ]
  },
  {
   "cell_type": "code",
   "execution_count": null,
   "id": "322679aa",
   "metadata": {
    "scrolled": true
   },
   "outputs": [],
   "source": [
    "wirte_output_txt = True\n",
    "\n",
    "\n",
    "# from emukit.core.initial_designs.latin_design import LatinDesign\n",
    "# design = LatinDesign(parameter_space) \n",
    "\n",
    "m2_design = RandomDesign(m2_space)\n",
    "m2_x = m2_design.get_samples(3*2)\n",
    "m2_y = neg_run_missile_sim(m2_x)"
   ]
  },
  {
   "cell_type": "code",
   "execution_count": null,
   "id": "a7e82e1f",
   "metadata": {},
   "outputs": [],
   "source": [
    "# Build model\n",
    "m2_var_kernel = (100)**2 \n",
    "m2_lengthscale = 100 # 100 # 1\n",
    "m2_var_noise = 1e-5 # small value\n",
    "\n",
    "#kern = GPy.kern.RBF(input_dim=2, lengthscale=lengthscale, variance =var_kernel)  # , lengthscale=0.08, variance=20\n",
    "# kern = GPy.kern.Matern32(input_dim=1)\n",
    "# kern = GPy.kern.Linear(input_dim=1)\n",
    "\n",
    "constrain_lengthscale = True\n",
    "\n",
    "m2_rbf_kern = GPy.kern.RBF(input_dim=2, lengthscale=m2_lengthscale)\n",
    "if constrain_lengthscale:\n",
    "    m2_rbf_kern.lengthscale.constrain_bounded(m2_lengthscale, m2_lengthscale*1e12)\n",
    "\n",
    "# m2_kern = m2_rbf_kern + \\\n",
    "#     GPy.kern.Linear(input_dim=2)\n",
    "m2_kern = (GPy.kern.RBF(input_dim=2, lengthscale=500) * \\\n",
    "           GPy.kern.RBF(input_dim=2, lengthscale=100)) * \\\n",
    "    GPy.kern.Linear(input_dim=2)\n",
    "# m2_kern = m2_rbf_kern\n",
    "\n",
    "m2_model_gpy = GPRegression(m2_x,m2_y, kernel=m2_kern)\n",
    "m2_model_gpy.kern.variance =  m2_var_kernel \n",
    "m2_model_gpy.likelihood.variance.fix(m2_var_noise)  \n",
    "\n",
    "display(m2_model_gpy)\n",
    "\n",
    "\n"
   ]
  },
  {
   "cell_type": "code",
   "execution_count": null,
   "id": "75a5c705",
   "metadata": {},
   "outputs": [],
   "source": [
    "# m2_model_gpy_opt = m2_model_gpy\n",
    "# m2_model_gpy_opt.optimize()\n",
    "# m2_model_gpy_opt.plot()"
   ]
  },
  {
   "cell_type": "code",
   "execution_count": null,
   "id": "313ccf6f",
   "metadata": {},
   "outputs": [],
   "source": [
    "m2_model_emukit = GPyModelWrapper(m2_model_gpy)\n",
    "m2_model_emukit.optimize()"
   ]
  },
  {
   "cell_type": "code",
   "execution_count": null,
   "id": "0d5ccd59",
   "metadata": {},
   "outputs": [],
   "source": [
    "display(m2_model_gpy)"
   ]
  },
  {
   "cell_type": "code",
   "execution_count": null,
   "id": "25635c94",
   "metadata": {},
   "outputs": [],
   "source": [
    "# Create data for plot\n",
    "wirte_output_txt = False\n",
    "nr_points_plot = 101\n",
    "m2_param_1_x_plot = np.linspace(m2_space.parameters[0].min, m2_space.parameters[0].max, nr_points_plot)[:, None]\n",
    "m2_param_2_x_plot = np.linspace(m2_space.parameters[1].min, m2_space.parameters[1].max, nr_points_plot)[:, None]\n",
    "m2_x_plot_mesh, m2_y_plot_mesh = np.meshgrid(m2_param_1_x_plot, m2_param_2_x_plot)\n",
    "m2_x_plot = np.array([m2_x_plot_mesh, m2_y_plot_mesh]).T.reshape(-1,2)\n",
    "\n",
    "\n",
    "# TEMP read data from txt\n",
    "# np.savetxt('test1.txt', a, fmt='%f')\n",
    "# m2_y_plot = np.loadtxt('m2_y_plot_neg.txt', dtype=float)[:,None]\n",
    "\n",
    "if run_grid_simulation:\n",
    "    m2_y_plot = neg_run_missile_sim(m2_x_plot) # TAKES LONG TIME    \n",
    "    m2_Z = m2_y_plot.reshape(m2_x_plot_mesh.shape)\n",
    "\n",
    "\n"
   ]
  },
  {
   "cell_type": "code",
   "execution_count": null,
   "id": "d32b0be7",
   "metadata": {},
   "outputs": [],
   "source": [
    "m2_x"
   ]
  },
  {
   "cell_type": "code",
   "execution_count": null,
   "id": "2a73dd78",
   "metadata": {},
   "outputs": [],
   "source": [
    "# Compute current prediction\n",
    "m2_mu_plot_grid_pred1, var_plot_grid_pred1 = m2_model_emukit.predict(m2_x_plot)\n",
    "m2_mu_plot_pred1 = m2_mu_plot_grid_pred1.reshape(m2_x_plot_mesh.shape)\n",
    "m2_var_plot_pred1 = var_plot_grid_pred1.reshape(m2_x_plot_mesh.shape)\n",
    "\n",
    "if run_grid_simulation:\n",
    "    m2_rmse = evaluate_prediction(y_actual=m2_y_plot, y_predicted=m2_mu_plot_grid_pred1)\n",
    "    print(\"RMSE m2 (before experiment design loop): \", m2_rmse)\n"
   ]
  },
  {
   "cell_type": "code",
   "execution_count": null,
   "id": "60212173",
   "metadata": {},
   "outputs": [],
   "source": [
    "if run_grid_simulation:\n",
    "    # 3D Plot\n",
    "    add_bands = False\n",
    "    \n",
    "    # REVERSE\n",
    "    fig = plt.figure()\n",
    "    ax = fig.add_subplot(projection='3d')\n",
    "\n",
    "    # True surface\n",
    "    surf = ax.plot_surface(m2_y_plot_mesh, m2_x_plot_mesh, (m2_Z).transpose(), \n",
    "                           alpha = .5, \n",
    "                           label='target function',\n",
    "                           color='black'\n",
    "                          )\n",
    "    # Mean predicted\n",
    "    surf = ax.plot_surface(m2_y_plot_mesh, m2_x_plot_mesh, (m2_mu_plot_pred1).transpose(), \n",
    "                           alpha = .5, \n",
    "                           label='model', # Mean\n",
    "                           color='royalblue'\n",
    "                          )\n",
    "    # True points observed\n",
    "    ax.scatter(m2_x[:,1], m2_x[:,0], m2_y, marker='o', color='red')\n",
    "\n",
    "    ax.set_xlabel(m2_param_2)\n",
    "    ax.set_ylabel(m2_param_1)\n",
    "    ax.set_zlabel('Target function')\n",
    "    plt.tight_layout()\n",
    "\n"
   ]
  },
  {
   "cell_type": "code",
   "execution_count": null,
   "id": "ad197c31",
   "metadata": {
    "scrolled": false
   },
   "outputs": [],
   "source": [
    "if run_grid_simulation:\n",
    "    from matplotlib import colors\n",
    "    divnorm=colors.TwoSlopeNorm(vcenter=0.) # vmin=-5., vcenter=0., vmax=10\n",
    "\n",
    "    ## Heatmaps\n",
    "    extents = [m2_space.parameters[1].min, m2_space.parameters[1].max, \n",
    "               m2_space.parameters[0].min, m2_space.parameters[0].max]\n",
    "\n",
    "    # True values\n",
    "    fig, ax = plt.subplots()\n",
    "    im = ax.imshow(m2_Z, extent=extents, aspect='auto',  origin='lower')\n",
    "    ax.set_title('Target function')\n",
    "    ax.set_xlabel(m2_param_2)\n",
    "    ax.set_ylabel(m2_param_1)\n",
    "    fig.colorbar(im, ax=ax)\n",
    "    fig.show()\n",
    "\n",
    "    # Model\n",
    "    fig, ax = plt.subplots()\n",
    "    im = ax.imshow(m2_mu_plot_pred1, extent=extents, aspect='auto', origin='lower')\n",
    "    ax.set_title('Model (mean)')\n",
    "    ax.set_xlabel(m2_param_2)\n",
    "    ax.set_ylabel(m2_param_1)\n",
    "    fig.colorbar(im, ax=ax)\n",
    "    fig.show()\n",
    "\n",
    "\n",
    "    # Difference\n",
    "    fig, ax = plt.subplots()\n",
    "    vmin = (m2_mu_plot_pred1-m2_Z).min()\n",
    "    vmax = (m2_mu_plot_pred1-m2_Z).max()\n",
    "    vmin_max = max(abs(vmin), abs(vmax))\n",
    "    divnorm=colors.TwoSlopeNorm(vcenter=0., vmin=-vmin_max, vmax=vmin_max) # vmin=-5., vcenter=0., vmax=10\n",
    "    im = ax.imshow(m2_mu_plot_pred1-m2_Z, extent=extents, aspect='auto', cmap=\"bwr\", norm=divnorm, origin='lower')\n",
    "    ax.set_title('Difference between model and target function')\n",
    "    ax.set_xlabel(m2_param_2)\n",
    "    ax.set_ylabel(m2_param_1)\n",
    "    # Add points where simulation evaluated\n",
    "    ax.plot(m2_x[:,1], m2_x[:,0], 'ro')\n",
    "    fig.colorbar(im, ax=ax)\n",
    "    fig.show()\n",
    "\n"
   ]
  },
  {
   "cell_type": "code",
   "execution_count": null,
   "id": "1dc1444f",
   "metadata": {},
   "outputs": [],
   "source": [
    "m2_x"
   ]
  },
  {
   "cell_type": "markdown",
   "id": "301cae74",
   "metadata": {},
   "source": [
    "### Use the model created for model-based experimental design\n",
    "use the model to decide which are the best points to collect using some data collection criteria (acquisition function)."
   ]
  },
  {
   "cell_type": "code",
   "execution_count": null,
   "id": "9f93a488",
   "metadata": {},
   "outputs": [],
   "source": [
    "from emukit.experimental_design.experimental_design_loop import ExperimentalDesignLoop\n",
    "from emukit.experimental_design.acquisitions import IntegratedVarianceReduction, ModelVariance\n"
   ]
  },
  {
   "cell_type": "code",
   "execution_count": null,
   "id": "c34c6cc0",
   "metadata": {},
   "outputs": [],
   "source": [
    "# help(ExperimentalDesignLoop)"
   ]
  },
  {
   "cell_type": "code",
   "execution_count": null,
   "id": "e95bf403",
   "metadata": {},
   "outputs": [],
   "source": [
    "m2_2_model_emukit = m2_model_emukit"
   ]
  },
  {
   "cell_type": "code",
   "execution_count": null,
   "id": "4dda37ef",
   "metadata": {},
   "outputs": [],
   "source": [
    "wirte_output_txt = False\n",
    "\n",
    "integrated_variance = IntegratedVarianceReduction(space=m2_space,\n",
    "                                                  model=m2_2_model_emukit)\n",
    "m2_ed = ExperimentalDesignLoop(space=m2_space, \n",
    "                            model=m2_2_model_emukit, \n",
    "                            acquisition = integrated_variance,\n",
    "                            batch_size = 1) \n",
    "\n",
    "m2_ed.run_loop(user_function=neg_run_missile_sim, stopping_condition=10*2)\n",
    "\n"
   ]
  },
  {
   "cell_type": "code",
   "execution_count": null,
   "id": "82ce4e6e",
   "metadata": {},
   "outputs": [],
   "source": [
    "m2_2_model_emukit.X.shape\n"
   ]
  },
  {
   "cell_type": "code",
   "execution_count": null,
   "id": "da490b4e",
   "metadata": {},
   "outputs": [],
   "source": [
    "m2_2_model_emukit.__dict__"
   ]
  },
  {
   "cell_type": "code",
   "execution_count": null,
   "id": "d67531ec",
   "metadata": {},
   "outputs": [],
   "source": [
    "m2_ed.__dict__"
   ]
  },
  {
   "cell_type": "code",
   "execution_count": null,
   "id": "d51645be",
   "metadata": {},
   "outputs": [],
   "source": [
    "if run_grid_simulation:\n",
    "    # Compute new prediction\n",
    "    m2_mu_plot_grid_pred2, var_plot_grid_pred2 = m2_2_model_emukit.predict(m2_x_plot)\n",
    "    m2_mu_plot_pred2 = m2_mu_plot_grid_pred2.reshape(m2_x_plot_mesh.shape)\n",
    "    m2_var_plot_pred2 = var_plot_grid_pred2.reshape(m2_x_plot_mesh.shape)\n",
    "    \n",
    "    m2_2_rmse = evaluate_prediction(y_actual=m2_y_plot, y_predicted=m2_mu_plot_grid_pred2)\n",
    "    print(\"RMSE m2 (post experiment design loop): \", m2_2_rmse)\n",
    "\n",
    "\n"
   ]
  },
  {
   "cell_type": "code",
   "execution_count": null,
   "id": "0aa5efb9",
   "metadata": {},
   "outputs": [],
   "source": [
    "if run_grid_simulation:\n",
    "    # 3D Plot\n",
    "    add_bands = False\n",
    "\n",
    "    \n",
    "    # REVERSE\n",
    "    fig = plt.figure()\n",
    "    ax = fig.add_subplot(projection='3d')\n",
    "\n",
    "    # True surface\n",
    "    surf = ax.plot_surface(m2_y_plot_mesh, m2_x_plot_mesh, (m2_Z).transpose(), \n",
    "                           alpha = .5, \n",
    "                           label='target function',\n",
    "                           color='black'\n",
    "                          )\n",
    "    # Mean predicted\n",
    "    surf = ax.plot_surface(m2_y_plot_mesh, m2_x_plot_mesh, (m2_mu_plot_pred2).transpose(), \n",
    "                           alpha = .5, \n",
    "                           label='model', # Mean\n",
    "                           color='royalblue'\n",
    "                          )\n",
    "    # True points observed\n",
    "    ax.scatter(np.array(m2_2_model_emukit.X)[:,1], \n",
    "               np.array(m2_2_model_emukit.X)[:,0], m2_2_model_emukit.Y, marker='o', color='red')\n",
    "\n",
    "    ax.set_xlabel(m2_param_2)\n",
    "    ax.set_ylabel(m2_param_1)\n",
    "    ax.set_zlabel('Target function')\n",
    "    plt.tight_layout()\n",
    "\n",
    "\n"
   ]
  },
  {
   "cell_type": "code",
   "execution_count": null,
   "id": "5c720793",
   "metadata": {},
   "outputs": [],
   "source": [
    "if run_grid_simulation:\n",
    "\n",
    "    # REVERSE\n",
    "    ## Heatmaps\n",
    "    extents = [m2_space.parameters[1].min, m2_space.parameters[1].max, \n",
    "               m2_space.parameters[0].min, m2_space.parameters[0].max]\n",
    "\n",
    "    # True values\n",
    "    fig, ax = plt.subplots()\n",
    "    im = ax.imshow(m2_Z, extent=extents, aspect='auto', origin='lower')\n",
    "    ax.set_title('Target function')\n",
    "    ax.set_xlabel(m2_param_2)\n",
    "    ax.set_ylabel(m2_param_1)\n",
    "    fig.colorbar(im, ax=ax)\n",
    "    fig.show()\n",
    "\n",
    "    # Model\n",
    "    fig, ax = plt.subplots()\n",
    "    im = ax.imshow(m2_mu_plot_pred2, extent=extents, aspect='auto', origin='lower')\n",
    "    ax.set_title('Model (mean)')\n",
    "    ax.set_xlabel(m2_param_2)\n",
    "    ax.set_ylabel(m2_param_1)\n",
    "    fig.colorbar(im, ax=ax)\n",
    "    fig.show()\n",
    "\n",
    "\n",
    "    # Difference\n",
    "    fig, ax = plt.subplots()\n",
    "    vmin = (m2_mu_plot_pred2-m2_Z).min()\n",
    "    vmax = (m2_mu_plot_pred2-m2_Z).max()\n",
    "    vmin_max = max(abs(vmin), abs(vmax))\n",
    "    divnorm=colors.TwoSlopeNorm(vcenter=0., vmin=-vmin_max, vmax=vmin_max) # vmin=-5., vcenter=0., vmax=10\n",
    "    im = ax.imshow(m2_mu_plot_pred2-m2_Z, extent=extents, aspect='auto', cmap=\"bwr\", norm=divnorm, origin='lower')\n",
    "    ax.set_title('Difference between model and target function')\n",
    "    ax.set_xlabel(m2_param_2)\n",
    "    ax.set_ylabel(m2_param_1)\n",
    "    # Add points where simulation evaluated\n",
    "    ax.plot(np.array(m2_2_model_emukit.X)[:,1], np.array(m2_2_model_emukit.X)[:,0], 'ro')\n",
    "    fig.colorbar(im, ax=ax)\n",
    "    fig.show()\n",
    "\n"
   ]
  },
  {
   "cell_type": "markdown",
   "id": "c122c76e",
   "metadata": {},
   "source": [
    "## 2. Maximization\n"
   ]
  },
  {
   "cell_type": "code",
   "execution_count": null,
   "id": "85017ce1",
   "metadata": {},
   "outputs": [],
   "source": [
    "m2_model_gpy = GPRegression(m2_x,m2_y, kernel=m2_kern)\n",
    "m2_model_gpy.kern.variance =  m2_var_kernel \n",
    "m2_model_gpy.likelihood.variance.fix(m2_var_noise)  \n",
    "\n",
    "m2_model_emukit = GPyModelWrapper(m2_model_gpy)\n",
    "m2_model_emukit.optimize()\n"
   ]
  },
  {
   "cell_type": "code",
   "execution_count": null,
   "id": "c72bec59",
   "metadata": {},
   "outputs": [],
   "source": [
    "# Compute current prediction\n",
    "m2_mu_plot_grid_pred1, var_plot_grid_pred1 = m2_model_emukit.predict(m2_x_plot)\n",
    "m2_mu_plot_pred1 = m2_mu_plot_grid_pred1.reshape(m2_x_plot_mesh.shape)\n",
    "m2_var_plot_pred1 = var_plot_grid_pred1.reshape(m2_x_plot_mesh.shape)\n",
    "\n",
    "if run_grid_simulation:\n",
    "    m2_rmse = evaluate_prediction(y_actual=m2_y_plot, y_predicted=m2_mu_plot_grid_pred1)\n",
    "    print(\"RMSE m2 (before experiment design loop): \", m2_rmse)\n",
    "\n"
   ]
  },
  {
   "cell_type": "code",
   "execution_count": null,
   "id": "8ca6efe0",
   "metadata": {},
   "outputs": [],
   "source": [
    "if run_grid_simulation:\n",
    "    # 3D Plot\n",
    "    add_bands = False\n",
    "    \n",
    "    # REVERSE\n",
    "    fig = plt.figure()\n",
    "    ax = fig.add_subplot(projection='3d')\n",
    "\n",
    "    # True surface\n",
    "    surf = ax.plot_surface(m2_y_plot_mesh, m2_x_plot_mesh, (m2_Z).transpose(), \n",
    "                           alpha = .5, \n",
    "                           label='target function',\n",
    "                           color='black'\n",
    "                          )\n",
    "    # Mean predicted\n",
    "    surf = ax.plot_surface(m2_y_plot_mesh, m2_x_plot_mesh, (m2_mu_plot_pred1).transpose(), \n",
    "                           alpha = .5, \n",
    "                           label='model', # Mean\n",
    "                           color='royalblue'\n",
    "                          )\n",
    "    # True points observed\n",
    "    ax.scatter(m2_x[:,1], m2_x[:,0], m2_y, marker='o', color='red')\n",
    "\n",
    "    ax.set_xlabel(m2_param_2)\n",
    "    ax.set_ylabel(m2_param_1)\n",
    "    ax.set_zlabel('Target function')\n",
    "    plt.tight_layout()\n"
   ]
  },
  {
   "cell_type": "code",
   "execution_count": null,
   "id": "6676b766",
   "metadata": {
    "scrolled": false
   },
   "outputs": [],
   "source": [
    "if run_grid_simulation:\n",
    "    from matplotlib import colors\n",
    "#     divnorm=colors.TwoSlopeNorm(vcenter=0.) # vmin=-5., vcenter=0., vmax=10\n",
    "\n",
    "    # REVERSE\n",
    "    ## Heatmaps\n",
    "    extents = [m2_space.parameters[1].min, m2_space.parameters[1].max, \n",
    "               m2_space.parameters[0].min, m2_space.parameters[0].max]\n",
    "\n",
    "    # True values\n",
    "    fig, ax = plt.subplots()\n",
    "    im = ax.imshow(m2_Z, extent=extents, aspect='auto', origin='lower')\n",
    "    ax.set_title('Target function')\n",
    "    ax.set_xlabel(m2_param_2)\n",
    "    ax.set_ylabel(m2_param_1)\n",
    "    fig.colorbar(im, ax=ax)\n",
    "    fig.show()\n",
    "\n",
    "    # Model\n",
    "    fig, ax = plt.subplots()\n",
    "    im = ax.imshow(m2_mu_plot_pred1, extent=extents, aspect='auto', origin='lower')\n",
    "    ax.set_title('Model (mean)')\n",
    "    ax.set_xlabel(m2_param_2)\n",
    "    ax.set_ylabel(m2_param_1)\n",
    "    fig.colorbar(im, ax=ax)\n",
    "    fig.show()\n",
    "\n",
    "\n",
    "    # Difference\n",
    "    vmin = (m2_mu_plot_pred1-m2_Z).min()\n",
    "    vmax = (m2_mu_plot_pred1-m2_Z).max()\n",
    "    vmin_max = max(abs(vmin), abs(vmax))\n",
    "    divnorm=colors.TwoSlopeNorm(vcenter=0., vmin=-vmin_max, vmax=vmin_max) # vmin=-5., vcenter=0., vmax=10\n",
    "    fig, ax = plt.subplots()\n",
    "    im = ax.imshow(m2_mu_plot_pred1-m2_Z, extent=extents, aspect='auto', cmap=\"bwr\", norm=divnorm, origin='lower')\n",
    "    ax.set_title('Difference between model and target function')\n",
    "    ax.set_xlabel(m2_param_2)\n",
    "    ax.set_ylabel(m2_param_1)\n",
    "    # Add points where simulation evaluated\n",
    "    ax.plot(m2_x[:,1], m2_x[:,0], 'ro')\n",
    "    fig.colorbar(im, ax=ax)\n",
    "    fig.show()\n",
    "\n"
   ]
  },
  {
   "cell_type": "markdown",
   "id": "a51fdf02",
   "metadata": {},
   "source": [
    "### Use the model created for model-based bayes optimization\n",
    "use the model to decide which are the best points to collect using some data collection criteria (that we call acquisition)."
   ]
  },
  {
   "cell_type": "code",
   "execution_count": null,
   "id": "cde468cd",
   "metadata": {},
   "outputs": [],
   "source": [
    "m2_max_model_emukit = m2_model_emukit"
   ]
  },
  {
   "cell_type": "code",
   "execution_count": null,
   "id": "265efbd6",
   "metadata": {},
   "outputs": [],
   "source": [
    "# Bayesian optimization using emulator\n",
    "from emukit.bayesian_optimization.acquisitions import ExpectedImprovement\n",
    "from emukit.bayesian_optimization.loops import BayesianOptimizationLoop\n",
    "\n",
    "maxim_aquisition = ExpectedImprovement(model=m2_max_model_emukit)\n",
    "\n",
    "\n",
    "bayesopt_loop = BayesianOptimizationLoop(model = m2_max_model_emukit,\n",
    "                                         space = m2_space,\n",
    "                                         acquisition = maxim_aquisition,\n",
    "                                         batch_size = 1)\n",
    "\n",
    "max_iterations = 5*2\n",
    "\n",
    "bayesopt_loop.run_loop(neg_run_missile_sim, max_iterations) \n",
    "\n"
   ]
  },
  {
   "cell_type": "code",
   "execution_count": null,
   "id": "30030ac0",
   "metadata": {},
   "outputs": [],
   "source": [
    "results = bayesopt_loop.get_results()\n",
    "results\n",
    "\n"
   ]
  },
  {
   "cell_type": "code",
   "execution_count": null,
   "id": "b8391fb0",
   "metadata": {},
   "outputs": [],
   "source": [
    "m2_max_model_emukit.X.shape"
   ]
  },
  {
   "cell_type": "code",
   "execution_count": null,
   "id": "a05faf5b",
   "metadata": {},
   "outputs": [],
   "source": [
    "m2_max_model_emukit.__dict__"
   ]
  },
  {
   "cell_type": "code",
   "execution_count": null,
   "id": "87b2bc11",
   "metadata": {},
   "outputs": [],
   "source": [
    "if run_grid_simulation:\n",
    "    # Compute new prediction\n",
    "    m2_mu_plot_grid_pred2, var_plot_grid_pred2 = m2_max_model_emukit.predict(m2_x_plot)\n",
    "    m2_mu_plot_pred2 = m2_mu_plot_grid_pred2.reshape(m2_x_plot_mesh.shape)\n",
    "    m2_var_plot_pred2 = var_plot_grid_pred2.reshape(m2_x_plot_mesh.shape)\n",
    "    \n",
    "    m2_max_rmse = evaluate_prediction(y_actual=m2_y_plot, y_predicted=m2_mu_plot_grid_pred2)\n",
    "    print(\"RMSE m2 (post bayes opt loop): \", m2_max_rmse)\n",
    "\n",
    "\n"
   ]
  },
  {
   "cell_type": "code",
   "execution_count": null,
   "id": "a8faa644",
   "metadata": {},
   "outputs": [],
   "source": [
    "if run_grid_simulation:\n",
    "    # 3D Plot\n",
    "    add_bands = False\n",
    "\n",
    "    \n",
    "    # REVERSE\n",
    "    fig = plt.figure()\n",
    "    ax = fig.add_subplot(projection='3d')\n",
    "\n",
    "    # True surface\n",
    "    surf = ax.plot_surface(m2_y_plot_mesh, m2_x_plot_mesh, (m2_Z).transpose(), \n",
    "                           alpha = .5, \n",
    "                           label='target function',\n",
    "                           color='black'\n",
    "                          )\n",
    "    # Mean predicted\n",
    "    surf = ax.plot_surface(m2_y_plot_mesh, m2_x_plot_mesh, (m2_mu_plot_pred2).transpose(), \n",
    "                           alpha = .5, \n",
    "                           label='model', # Mean\n",
    "                           color='royalblue'\n",
    "                          )\n",
    "    # True points observed\n",
    "    ax.scatter(np.array(m2_max_model_emukit.X)[:,1], \n",
    "               np.array(m2_max_model_emukit.X)[:,0], m2_max_model_emukit.Y, marker='o', color='red')\n",
    "\n",
    "    ax.set_xlabel(m2_param_2)\n",
    "    ax.set_ylabel(m2_param_1)\n",
    "    ax.set_zlabel('Target function')\n",
    "    plt.tight_layout()\n",
    "\n"
   ]
  },
  {
   "cell_type": "code",
   "execution_count": null,
   "id": "0d1d0892",
   "metadata": {},
   "outputs": [],
   "source": [
    "if run_grid_simulation:\n",
    "\n",
    "    ## Heatmaps\n",
    "    extents = [m2_space.parameters[1].min, m2_space.parameters[1].max, \n",
    "               m2_space.parameters[0].min, m2_space.parameters[0].max]\n",
    "\n",
    "    # True values\n",
    "    fig, ax = plt.subplots()\n",
    "    im = ax.imshow(m2_Z, extent=extents, aspect='auto', origin='lower')\n",
    "    ax.set_title('Target function')\n",
    "    ax.set_xlabel(m2_param_2)\n",
    "    ax.set_ylabel(m2_param_1)\n",
    "    fig.colorbar(im, ax=ax)\n",
    "    fig.show()\n",
    "\n",
    "    # Model\n",
    "    fig, ax = plt.subplots()\n",
    "    im = ax.imshow(m2_mu_plot_pred2, extent=extents, aspect='auto', origin='lower')\n",
    "    ax.set_title('Model (mean)')\n",
    "    ax.set_xlabel(m2_param_2)\n",
    "    ax.set_ylabel(m2_param_1)\n",
    "    fig.colorbar(im, ax=ax)\n",
    "    fig.show()\n",
    "\n",
    "\n",
    "    # Difference\n",
    "    fig, ax = plt.subplots()\n",
    "    vmin = (m2_mu_plot_pred2-m2_Z).min()\n",
    "    vmax = (m2_mu_plot_pred2-m2_Z).max()\n",
    "    vmin_max = max(abs(vmin), abs(vmax))\n",
    "    divnorm=colors.TwoSlopeNorm(vcenter=0., vmin=-vmin_max, vmax=vmin_max) # vmin=-5., vcenter=0., vmax=10\n",
    "    im = ax.imshow(m2_mu_plot_pred2-m2_Z, extent=extents, aspect='auto', cmap=\"bwr\", norm=divnorm, origin='lower')\n",
    "    ax.set_title('Difference between model and target function')\n",
    "    ax.set_xlabel(m2_param_2)\n",
    "    ax.set_ylabel(m2_param_1)\n",
    "    # Add points where simulation evaluated\n",
    "#     ax.plot(m2_x[:,0], m2_x[:,1], 'ro')\n",
    "#     ax.plot(m2_x[:,1], m2_x[:,0], 'ro')\n",
    "    ax.plot(np.array(m2_max_model_emukit.X)[:,1], np.array(m2_max_model_emukit.X)[:,0], 'ro')\n",
    "    fig.colorbar(im, ax=ax)\n",
    "    fig.show()\n",
    "\n"
   ]
  },
  {
   "cell_type": "code",
   "execution_count": null,
   "id": "d34766a9",
   "metadata": {},
   "outputs": [],
   "source": [
    "## Greedy maximization using the simulator\n",
    "# # opt 1\n",
    "from collections import namedtuple\n",
    "Min_val = namedtuple('Min_val', 'fun x')\n",
    "min_idx = np.argmin(m2_y_plot)\n",
    "true_minim = Min_val( m2_y_plot[min_idx], m2_x_plot[min_idx])\n",
    "\n",
    "print(\"True min value: \", m2_y_plot[min_idx])\n",
    "print(\"True min location: \", m2_x_plot[min_idx])\n",
    "\n",
    "# # # opt2\n",
    "# nr_custom_params = 2\n",
    "# wirte_output_txt = False\n",
    "# from scipy.optimize import minimize\n",
    "\n",
    "\n",
    "# # func_to_minimize = lambda x: (x[0] - 1)**2 + (x[1] - 2.5)**2  \n",
    "# def func_to_minimize(x):\n",
    "#     print(x)\n",
    "#     return neg_run_missile_sim(np.array(x).reshape(1,nr_custom_params))\n",
    "\n",
    "# bnds = [(m2_domain_param_1),\n",
    "#         (m2_domain_param_2),\n",
    "# #         (m3_domain_param_3),\n",
    "# #         (m3_domain_param_4),\n",
    "# #         (m3_domain_param_5),\n",
    "# #         (m3_domain_param_6)\n",
    "#        ]\n",
    "\n",
    "\n",
    "# initial_guess = [np.mean(m2_domain_param_1),\n",
    "#                  np.mean(m2_domain_param_2),\n",
    "# #                  np.mean(m3_domain_param_3),\n",
    "# #                  np.mean(m3_domain_param_4),\n",
    "# #                  np.mean(m3_domain_param_5),\n",
    "# #                  np.mean(m3_domain_param_6)\n",
    "#                 ]\n",
    "# true_minim = minimize(func_to_minimize, initial_guess, bounds=bnds) # , method='SLSQP'constraints=cons\n",
    "\n"
   ]
  },
  {
   "cell_type": "code",
   "execution_count": null,
   "id": "8d15430a",
   "metadata": {},
   "outputs": [],
   "source": []
  },
  {
   "cell_type": "code",
   "execution_count": null,
   "id": "66b18735",
   "metadata": {},
   "outputs": [],
   "source": [
    "min_val_from_sim = true_minim.fun\n",
    "min_loc_from_sim = true_minim.x\n",
    "min_val_from_emu = results.minimum_value\n",
    "min_loc_from_emu = results.minimum_location\n",
    "\n",
    "min_val_diff = min_val_from_sim - min_val_from_emu\n",
    "min_loc_diff = min_loc_from_sim - min_loc_from_emu\n",
    "\n",
    "print(\"Min val from sim - min val from em: \\n\", min_val_diff)\n",
    "print('\\n')\n",
    "print(\"Min location from sim - min location from em: \\n\", min_loc_diff)\n",
    "print('\\n')\n",
    "print('\\n')\n",
    "print(\"Min location from sim: \\n\", min_loc_from_sim)\n",
    "print(\"Min location from emu: \\n\", min_loc_from_emu)\n",
    "print('\\n')\n",
    "print('\\n')\n",
    "print(\"Min value from sim: \\n\", min_val_from_sim)\n",
    "print(\"Min value from emu: \\n\", min_val_from_emu)"
   ]
  },
  {
   "cell_type": "code",
   "execution_count": null,
   "id": "c0054d3d",
   "metadata": {},
   "outputs": [],
   "source": []
  },
  {
   "cell_type": "code",
   "execution_count": null,
   "id": "3244852b",
   "metadata": {},
   "outputs": [],
   "source": []
  }
 ],
 "metadata": {
  "kernelspec": {
   "display_name": "Python 3 (ipykernel)",
   "language": "python",
   "name": "python3"
  },
  "language_info": {
   "codemirror_mode": {
    "name": "ipython",
    "version": 3
   },
   "file_extension": ".py",
   "mimetype": "text/x-python",
   "name": "python",
   "nbconvert_exporter": "python",
   "pygments_lexer": "ipython3",
   "version": "3.10.6"
  }
 },
 "nbformat": 4,
 "nbformat_minor": 5
}
