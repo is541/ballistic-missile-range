{
 "cells": [
  {
   "cell_type": "code",
   "execution_count": null,
   "id": "9f0daa71",
   "metadata": {},
   "outputs": [],
   "source": [
    "write_images = False\n",
    "\n",
    "\n",
    "wirte_output_txt = False \n",
    "# Specify everytime Simulation is called \n",
    "# WARNING --> Set to False when running more then 10 simulations \n",
    "#            (otherwise it will be super slow and might crash)"
   ]
  },
  {
   "cell_type": "code",
   "execution_count": null,
   "id": "52f0894a",
   "metadata": {},
   "outputs": [],
   "source": [
    "import numpy as np"
   ]
  },
  {
   "cell_type": "code",
   "execution_count": null,
   "id": "93f2edae",
   "metadata": {},
   "outputs": [],
   "source": [
    "from emukit.core import ContinuousParameter, ParameterSpace\n",
    "from emukit.core.initial_designs import RandomDesign\n",
    "\n",
    "import GPy\n",
    "from GPy.models import GPRegression\n",
    "from emukit.model_wrappers import GPyModelWrapper\n",
    "from emukit.sensitivity.monte_carlo import MonteCarloSensitivity\n",
    "\n",
    "import matplotlib.pyplot as plt\n",
    "import mlai.plot as plot"
   ]
  },
  {
   "cell_type": "code",
   "execution_count": null,
   "id": "4c62ad75",
   "metadata": {},
   "outputs": [],
   "source": [
    "%run Missile_utils.ipynb"
   ]
  },
  {
   "cell_type": "code",
   "execution_count": null,
   "id": "4d4b5722",
   "metadata": {},
   "outputs": [],
   "source": []
  },
  {
   "cell_type": "code",
   "execution_count": null,
   "id": "5d80bf71",
   "metadata": {},
   "outputs": [],
   "source": [
    "simulation_output = 'range' \n",
    "# We divide by 1000 to avoid dealing with too large numbers"
   ]
  },
  {
   "cell_type": "code",
   "execution_count": null,
   "id": "d37f870a",
   "metadata": {},
   "outputs": [],
   "source": []
  },
  {
   "cell_type": "code",
   "execution_count": null,
   "id": "f8909363",
   "metadata": {},
   "outputs": [],
   "source": []
  },
  {
   "cell_type": "markdown",
   "id": "45d81059",
   "metadata": {},
   "source": [
    "We consider missiles with only 1 stage"
   ]
  },
  {
   "cell_type": "code",
   "execution_count": null,
   "id": "8f920a96",
   "metadata": {},
   "outputs": [],
   "source": [
    "\n",
    "basic_param_spaces = {\n",
    "    'payload':  [10, 2410],\n",
    "    'missilediam':  [0.1, 9.9],\n",
    "    'rvdiam':  [0.1, 9.9],\n",
    "    'estrange': [100, 4900], \n",
    "    'fuelmass': [500, 6000], # [500, 7000], \n",
    "    'drymass':  [1000, 3000],\n",
    "    'Isp0':  [100, 800],# [100, 800],\n",
    "    'thrust0':  [10000, 69000],\n",
    "}"
   ]
  },
  {
   "cell_type": "code",
   "execution_count": null,
   "id": "a042122c",
   "metadata": {},
   "outputs": [],
   "source": [
    "from sklearn.metrics import mean_squared_error\n",
    "import math\n",
    "\n",
    "def compute_rmse(y_actual, y_predicted):\n",
    "    MSE = mean_squared_error(y_actual, y_predicted)\n",
    "    RMSE = math.sqrt(MSE)\n",
    " \n",
    "    return RMSE\n",
    "\n",
    "def evaluate_prediction(y_actual, y_predicted):\n",
    "    return compute_rmse(y_actual, y_predicted)\n",
    "    \n",
    "    "
   ]
  },
  {
   "cell_type": "code",
   "execution_count": null,
   "id": "5bf4723b",
   "metadata": {},
   "outputs": [],
   "source": []
  },
  {
   "cell_type": "markdown",
   "id": "0ea5a26c",
   "metadata": {},
   "source": [
    "# 0. Only one param - m0"
   ]
  },
  {
   "cell_type": "code",
   "execution_count": null,
   "id": "7d485723",
   "metadata": {},
   "outputs": [],
   "source": [
    "m0_param_1 = 'fuelmass'\n",
    "m0_domain_param_1 = basic_param_spaces[m0_param_1] \n",
    "\n",
    "m0_space = ParameterSpace(\n",
    "          [ContinuousParameter(m0_param_1, *m0_domain_param_1), \n",
    "          ])\n",
    "\n",
    "custom_param_names = [m0_param_1]"
   ]
  },
  {
   "cell_type": "code",
   "execution_count": null,
   "id": "0a0ae471",
   "metadata": {},
   "outputs": [],
   "source": [
    "def run_missile_sim(custom_params):\n",
    "    \"\"\"\n",
    "    Recives in input an array of custom parameters.\n",
    "    Each row represents a set of different parameters\n",
    "    Each column is a different parameter (#cols = len(custom_param_names))\n",
    "    \"\"\"\n",
    "    default_params_IRAQ = {\n",
    "        'payload':500,\n",
    "        'missilediam':0.88,\n",
    "        'rvdiam':0,\n",
    "        'estrange':600,\n",
    "        'numstages':1,\n",
    "        'fuelmass':[0,5600],\n",
    "        'drymass':[0,1200],\n",
    "        'Isp0':[0,226],\n",
    "        'thrust0':[0,9177.4]\n",
    "    }\n",
    "    \n",
    "    \n",
    "    y = np.zeros((custom_params.shape[0], 1))\n",
    "    for i in range(custom_params.shape[0]):\n",
    "        params_to_use = default_params_IRAQ\n",
    "        # Overwrite default param variables\n",
    "        for j in range(custom_params.shape[1]):\n",
    "            param_name = custom_param_names[j]\n",
    "            if param_name in ['fuelmass', 'drymass', 'Isp0', 'thrust0']:\n",
    "                params_to_use[param_name][1] = custom_params[i,j] \n",
    "            else:\n",
    "                params_to_use[param_name] = custom_params[i, j]\n",
    "        \n",
    "            if j==0:\n",
    "                print('\\nNew simulation \\n')\n",
    "            str_to_print = param_name + ': ' + str(custom_params[i,j])\n",
    "            print(str_to_print)\n",
    "             \n",
    "                \n",
    "        # Run simulation\n",
    "        output_path = 'results/results_' + str(i) + '.txt'\n",
    "        sim_output = run_one_sim(\n",
    "            numstages=params_to_use[\"numstages\"], \n",
    "            fuelmass=params_to_use[\"fuelmass\"], \n",
    "            drymass=params_to_use[\"drymass\"], \n",
    "            thrust0=params_to_use[\"thrust0\"], \n",
    "            Isp0=params_to_use[\"Isp0\"], \n",
    "            payload=params_to_use[\"payload\"],  \n",
    "            missilediam=params_to_use[\"missilediam\"],  \n",
    "            rvdiam=params_to_use[\"rvdiam\"], \n",
    "            est_range=params_to_use[\"estrange\"], \n",
    "            output_path=output_path, \n",
    "            simulation_output=simulation_output,\n",
    "        )\n",
    "        \n",
    "        y[i, 0] = sim_output\n",
    "    return y\n"
   ]
  },
  {
   "cell_type": "code",
   "execution_count": null,
   "id": "5ec19969",
   "metadata": {
    "scrolled": false
   },
   "outputs": [],
   "source": [
    "# Get true points (to build model)\n",
    "wirte_output_txt = True\n",
    "\n",
    "m0_design = RandomDesign(m0_space)\n",
    "m0_x = m0_design.get_samples(3)\n",
    "m0_y = run_missile_sim(m0_x)"
   ]
  },
  {
   "cell_type": "code",
   "execution_count": null,
   "id": "a542922a",
   "metadata": {},
   "outputs": [],
   "source": [
    "# Build model\n",
    "m0_var_kernel = (100)**2 \n",
    "m0_lengthscale = 100 # 1\n",
    "m0_var_linear_kernel = (100)**2 \n",
    "m0_var_noise = 1e-5 # small value\n",
    "\n",
    "#kern = GPy.kern.RBF(input_dim=1, lengthscale=100, variance =var_kernel )  # , lengthscale=0.08, variance=20\n",
    "# kern = GPy.kern.Matern32(input_dim=1)\n",
    "# kern = GPy.kern.Linear(input_dim=1)\n",
    "\n",
    "\n",
    "constrain_lengthscale = False\n",
    "\n",
    "m0_rbf_kern = GPy.kern.RBF(input_dim=1, lengthscale=m0_lengthscale)\n",
    "if constrain_lengthscale:\n",
    "    m0_rbf_kern.lengthscale.constrain_bounded(m0_lengthscale, m0_lengthscale*1e12)\n",
    "\n",
    "m0_kern = m0_rbf_kern + \\\n",
    "    GPy.kern.Linear(input_dim=1)\n",
    "\n",
    "\n",
    "m0_model_gpy = GPRegression(m0_x,m0_y, kernel=m0_kern)\n",
    "m0_model_gpy.kern.variance =  m0_var_kernel \n",
    "m0_model_gpy.likelihood.variance.fix(m0_var_noise)  \n",
    "\n",
    "display(m0_model_gpy)\n",
    "\n"
   ]
  },
  {
   "cell_type": "code",
   "execution_count": null,
   "id": "eca5bf7f",
   "metadata": {},
   "outputs": [],
   "source": [
    "# Fit emulator\n",
    "m0_model_emukit = GPyModelWrapper(m0_model_gpy)\n",
    "m0_model_emukit.optimize() # Optimize model hyperparameters\n",
    "\n"
   ]
  },
  {
   "cell_type": "code",
   "execution_count": null,
   "id": "1e1bcd0b",
   "metadata": {},
   "outputs": [],
   "source": [
    "display(m0_model_gpy)"
   ]
  },
  {
   "cell_type": "code",
   "execution_count": null,
   "id": "380da8dd",
   "metadata": {
    "scrolled": true
   },
   "outputs": [],
   "source": [
    "# Get true points corresponding to param_1_x_plot (for plot)\n",
    "wirte_output_txt = False\n",
    "\n",
    "nr_points_plot = 301\n",
    "m0_param_1_x_plot = np.linspace(m0_space.parameters[0].min, m0_space.parameters[0].max, nr_points_plot)[:, None]\n",
    "m0_param_1_y_plot = run_missile_sim(m0_param_1_x_plot)\n",
    "\n"
   ]
  },
  {
   "cell_type": "code",
   "execution_count": null,
   "id": "4a2a22d1",
   "metadata": {},
   "outputs": [],
   "source": [
    "# Get model prediction on param_1_x_plot\n",
    "m0_mu_plot, m0_var_plot = m0_model_emukit.predict(m0_param_1_x_plot)\n",
    "\n"
   ]
  },
  {
   "cell_type": "code",
   "execution_count": null,
   "id": "da2d688b",
   "metadata": {},
   "outputs": [],
   "source": []
  },
  {
   "cell_type": "code",
   "execution_count": null,
   "id": "4282760f",
   "metadata": {},
   "outputs": [],
   "source": [
    "# Plot\n",
    "def helper_plot_emulator_errorbars(x_plot, y_plot, mu_plot, var_plot, model_emukit):\n",
    "    \"\"\"Helper function for plotting the emulator fit.\"\"\"\n",
    "    ax.plot(model_emukit.X[:, 0], model_emukit.Y, 'ro', markersize=10, label='observations')\n",
    "    ax.plot(x_plot[:, 0], mu_plot, 'C0', label='model', linewidth=3)\n",
    "    ax.plot(x_plot[:, 0], y_plot, 'k', label='target function', linewidth=2)\n",
    "#     ax.fill_between(x_plot[:, index],\n",
    "#                  mu_plot[:, 0] + np.sqrt(var_plot)[:, 0],\n",
    "#                  mu_plot[:, 0] - np.sqrt(var_plot)[:, 0], color='C0', alpha=0.6)\n",
    "    ax.fill_between(x_plot[:, 0],\n",
    "                 mu_plot[:, 0] + 2 * np.sqrt(var_plot)[:, 0],\n",
    "                 mu_plot[:, 0] - 2 * np.sqrt(var_plot)[:, 0], color='C0', alpha=0.4)\n",
    "#     ax.fill_between(x_plot[:, index],\n",
    "#                  mu_plot[:, 0] + 3 * np.sqrt(var_plot)[:, 0],\n",
    "#                  mu_plot[:, 0] - 3 * np.sqrt(var_plot)[:, 0], color='C0', alpha=0.2)\n",
    "    ax.legend(loc=2)\n",
    "    ax.set_xlabel(custom_param_names[0])\n",
    "    ax.set_ylabel('$f(x)$')\n",
    "    ax.grid(True)\n",
    "    #ax.set_xlim(-0.01, 1)\n",
    "    #ax.set_ylim([-20, 20])\n",
    "    "
   ]
  },
  {
   "cell_type": "code",
   "execution_count": null,
   "id": "eb3b6df9",
   "metadata": {},
   "outputs": [],
   "source": [
    "fig, ax = plt.subplots(figsize=plot.big_wide_figsize)\n",
    "helper_plot_emulator_errorbars(x_plot=m0_param_1_x_plot, y_plot=m0_param_1_y_plot, \n",
    "                               mu_plot=m0_mu_plot, var_plot=m0_var_plot, \n",
    "                               model_emukit=m0_model_emukit)\n",
    "\n",
    "m0_rmse = evaluate_prediction(y_actual=m0_param_1_y_plot, y_predicted=m0_mu_plot)\n",
    "print(\"RMSE m0 (pre experiment design loop): \", m0_rmse)"
   ]
  },
  {
   "cell_type": "markdown",
   "id": "de2f1d04",
   "metadata": {},
   "source": [
    "### Experiment design loop"
   ]
  },
  {
   "cell_type": "code",
   "execution_count": null,
   "id": "7da5b891",
   "metadata": {},
   "outputs": [],
   "source": [
    "from emukit.experimental_design.experimental_design_loop import ExperimentalDesignLoop\n",
    "from emukit.experimental_design.acquisitions import IntegratedVarianceReduction, ModelVariance"
   ]
  },
  {
   "cell_type": "code",
   "execution_count": null,
   "id": "54b7be26",
   "metadata": {},
   "outputs": [],
   "source": [
    "m0_2_model_emukit = m0_model_emukit"
   ]
  },
  {
   "cell_type": "code",
   "execution_count": null,
   "id": "d085eda8",
   "metadata": {},
   "outputs": [],
   "source": [
    "wirte_output_txt = False\n",
    "\n",
    "integrated_variance = IntegratedVarianceReduction(space=m0_space,\n",
    "                                                  model=m0_2_model_emukit)\n",
    "m0_ed = ExperimentalDesignLoop(space=m0_space, \n",
    "                            model=m0_2_model_emukit, \n",
    "                            acquisition = integrated_variance,\n",
    "                            batch_size = 1) \n",
    "# bach size is set to one in this example as we’ll collect evaluations \n",
    "# sequentially but parallel evaluations are allowed\n",
    "m0_ed.run_loop(user_function=run_missile_sim, stopping_condition=5)\n",
    "\n"
   ]
  },
  {
   "cell_type": "code",
   "execution_count": null,
   "id": "b3e568e9",
   "metadata": {},
   "outputs": [],
   "source": [
    "m0_2_mu_plot, m0_2_var_plot = m0_2_model_emukit.predict(m0_param_1_x_plot)\n",
    "\n"
   ]
  },
  {
   "cell_type": "code",
   "execution_count": null,
   "id": "aef69936",
   "metadata": {},
   "outputs": [],
   "source": [
    "fig, ax = plt.subplots(figsize=plot.big_wide_figsize)\n",
    "helper_plot_emulator_errorbars(x_plot=m0_param_1_x_plot, y_plot=m0_param_1_y_plot, \n",
    "                               mu_plot=m0_2_mu_plot, var_plot=m0_2_var_plot, \n",
    "                               model_emukit=m0_2_model_emukit)\n",
    "\n",
    "m0_2_rmse = evaluate_prediction(y_actual=m0_param_1_y_plot, y_predicted=m0_2_mu_plot)\n",
    "print(\"RMSE m0 (post experiment design loop): \", m0_2_rmse)"
   ]
  },
  {
   "cell_type": "markdown",
   "id": "a0b6a844",
   "metadata": {},
   "source": [
    "# 0. Only one param - m1"
   ]
  },
  {
   "cell_type": "code",
   "execution_count": null,
   "id": "40451435",
   "metadata": {},
   "outputs": [],
   "source": [
    "m1_param_1 = 'Isp0'\n",
    "m1_domain_param_1 = basic_param_spaces[m1_param_1] # [500, 6000] # [5000,15000]\n",
    "\n",
    "m1_space = ParameterSpace(\n",
    "          [ContinuousParameter(m1_param_1, *m1_domain_param_1), \n",
    "          ])\n",
    "\n",
    "custom_param_names = [m1_param_1]"
   ]
  },
  {
   "cell_type": "code",
   "execution_count": null,
   "id": "1708b79f",
   "metadata": {},
   "outputs": [],
   "source": [
    "def run_missile_sim(custom_params):\n",
    "    \"\"\"\n",
    "    Recives in input an array of custom parameters.\n",
    "    Each row represents a set of different parameters\n",
    "    Each column is a different parameter (#cols = len(custom_param_names))\n",
    "    \"\"\"\n",
    "    default_params_IRAQ = {\n",
    "        'payload':500,\n",
    "        'missilediam':0.88,\n",
    "        'rvdiam':0,\n",
    "        'estrange':600,\n",
    "        'numstages':1,\n",
    "        'fuelmass':[0,5600],\n",
    "        'drymass':[0,1200],\n",
    "        'Isp0':[0,226],\n",
    "        'thrust0':[0,9177.4]\n",
    "    }\n",
    "    \n",
    "    \n",
    "    y = np.zeros((custom_params.shape[0], 1))\n",
    "    for i in range(custom_params.shape[0]):\n",
    "        params_to_use = default_params_IRAQ\n",
    "        # Overwrite default param variables\n",
    "        for j in range(custom_params.shape[1]):\n",
    "            param_name = custom_param_names[j]\n",
    "            if param_name in ['fuelmass', 'drymass', 'Isp0', 'thrust0']:\n",
    "                params_to_use[param_name][1] = custom_params[i,j] # OK as long as we are considering missiles with only 1 stage\n",
    "            else:\n",
    "                params_to_use[param_name] = custom_params[i, j]\n",
    "        \n",
    "            ## TEMP ## Better customise this\n",
    "            if j==0:\n",
    "                print('\\nNew simulation \\n')\n",
    "            str_to_print = param_name + ': ' + str(custom_params[i,j])\n",
    "            print(str_to_print)\n",
    "            ## \n",
    "                \n",
    "        # Run simulation\n",
    "        output_path = 'results/results_' + str(i) + '.txt' # TODO Define better identifier\n",
    "        sim_output = run_one_sim(\n",
    "            numstages=params_to_use[\"numstages\"], \n",
    "            fuelmass=params_to_use[\"fuelmass\"], \n",
    "            drymass=params_to_use[\"drymass\"], \n",
    "            thrust0=params_to_use[\"thrust0\"], \n",
    "            Isp0=params_to_use[\"Isp0\"], \n",
    "            payload=params_to_use[\"payload\"],  \n",
    "            missilediam=params_to_use[\"missilediam\"],  \n",
    "            rvdiam=params_to_use[\"rvdiam\"], \n",
    "            est_range=params_to_use[\"estrange\"], \n",
    "            output_path=output_path, \n",
    "            simulation_output=simulation_output,\n",
    "        )\n",
    "        \n",
    "        y[i, 0] = sim_output\n",
    "    return y\n"
   ]
  },
  {
   "cell_type": "code",
   "execution_count": null,
   "id": "ccb2a328",
   "metadata": {
    "scrolled": false
   },
   "outputs": [],
   "source": [
    "# Get true points (to build model)\n",
    "wirte_output_txt = True\n",
    "\n",
    "m1_design = RandomDesign(m1_space)\n",
    "m1_x = m1_design.get_samples(3)\n",
    "m1_y = run_missile_sim(m1_x)"
   ]
  },
  {
   "cell_type": "code",
   "execution_count": null,
   "id": "b367ba97",
   "metadata": {},
   "outputs": [],
   "source": [
    "# Build model\n",
    "m1_var_kernel = (100)**2 \n",
    "m1_lengthscale = 100 # 1\n",
    "m1_var_linear_kernel = (100)**2 \n",
    "m1_var_noise = 1e-5 # small value\n",
    "\n",
    "constrain_lengthscale = True\n",
    "\n",
    "#kern = GPy.kern.RBF(input_dim=1, lengthscale=100, variance =var_kernel )  # , lengthscale=0.08, variance=20\n",
    "# kern = GPy.kern.Matern32(input_dim=1)\n",
    "# kern = GPy.kern.Linear(input_dim=1)\n",
    "m1_rbf_kern = GPy.kern.RBF(input_dim=1, lengthscale=m1_lengthscale)\n",
    "if constrain_lengthscale:\n",
    "    m1_rbf_kern.lengthscale.constrain_bounded(m1_lengthscale, m1_lengthscale*1e12)\n",
    "\n",
    "m1_kern = m1_rbf_kern + \\\n",
    "    GPy.kern.Linear(input_dim=1)\n",
    "# m1_kern = m1_rbf_kern \n",
    "\n",
    "m1_model_gpy = GPRegression(m1_x,m1_y, kernel=m1_kern)\n",
    "m1_model_gpy.kern.variance =  m1_var_kernel \n",
    "m1_model_gpy.likelihood.variance.fix(m1_var_noise)  \n",
    "display(m1_model_gpy)\n",
    "\n"
   ]
  },
  {
   "cell_type": "code",
   "execution_count": null,
   "id": "683a06b8",
   "metadata": {},
   "outputs": [],
   "source": [
    "# Fit emulator\n",
    "m1_model_emukit = GPyModelWrapper(m1_model_gpy)\n",
    "m1_model_emukit.optimize() # Optimize model hyperparameters\n",
    "\n"
   ]
  },
  {
   "cell_type": "code",
   "execution_count": null,
   "id": "e5a3497b",
   "metadata": {},
   "outputs": [],
   "source": [
    "display(m1_model_gpy)"
   ]
  },
  {
   "cell_type": "code",
   "execution_count": null,
   "id": "b998ae48",
   "metadata": {},
   "outputs": [],
   "source": [
    "# Get true points corresponding to param_1_x_plot (for plot)\n",
    "wirte_output_txt = False\n",
    "\n",
    "nr_points_plot = 301\n",
    "m1_param_1_x_plot = np.linspace(m1_space.parameters[0].min, m1_space.parameters[0].max, nr_points_plot)[:, None]\n",
    "m1_param_1_y_plot = run_missile_sim(m1_param_1_x_plot)\n",
    "\n"
   ]
  },
  {
   "cell_type": "code",
   "execution_count": null,
   "id": "fad041cb",
   "metadata": {},
   "outputs": [],
   "source": [
    "# Get model prediction on param_1_x_plot\n",
    "m1_mu_plot, m1_var_plot = m1_model_emukit.predict(m1_param_1_x_plot)\n",
    "\n"
   ]
  },
  {
   "cell_type": "code",
   "execution_count": null,
   "id": "b5ccba6a",
   "metadata": {},
   "outputs": [],
   "source": []
  },
  {
   "cell_type": "code",
   "execution_count": null,
   "id": "49acc2bd",
   "metadata": {},
   "outputs": [],
   "source": [
    "fig, ax = plt.subplots(figsize=plot.big_wide_figsize)\n",
    "helper_plot_emulator_errorbars(x_plot=m1_param_1_x_plot, y_plot=m1_param_1_y_plot, \n",
    "                               mu_plot=m1_mu_plot, var_plot=m1_var_plot, \n",
    "                               model_emukit=m1_model_emukit)\n",
    "\n",
    "m1_rmse = evaluate_prediction(y_actual=m1_param_1_y_plot, y_predicted=m1_mu_plot)\n",
    "print(\"RMSE m1 (pre experiment design loop): \", m1_rmse)"
   ]
  },
  {
   "cell_type": "code",
   "execution_count": null,
   "id": "a8018886",
   "metadata": {},
   "outputs": [],
   "source": []
  },
  {
   "cell_type": "markdown",
   "id": "af63240b",
   "metadata": {},
   "source": [
    "### Experiment design loop"
   ]
  },
  {
   "cell_type": "code",
   "execution_count": null,
   "id": "ef9ef104",
   "metadata": {},
   "outputs": [],
   "source": [
    "m1_2_model_emukit = m1_model_emukit"
   ]
  },
  {
   "cell_type": "code",
   "execution_count": null,
   "id": "f8174614",
   "metadata": {
    "scrolled": false
   },
   "outputs": [],
   "source": [
    "wirte_output_txt = False\n",
    "\n",
    "integrated_variance = IntegratedVarianceReduction(space=m1_space,\n",
    "                                                  model=m1_2_model_emukit)\n",
    "m1_ed = ExperimentalDesignLoop(space=m1_space, \n",
    "                            model=m1_2_model_emukit, \n",
    "                            acquisition = integrated_variance,\n",
    "                            batch_size = 1) \n",
    "# bach size is set to one in this example as we’ll collect evaluations \n",
    "# sequentially but parallel evaluations are allowed\n",
    "m1_ed.run_loop(user_function=run_missile_sim, stopping_condition=5)\n",
    "\n"
   ]
  },
  {
   "cell_type": "code",
   "execution_count": null,
   "id": "f54e9ce1",
   "metadata": {},
   "outputs": [],
   "source": [
    "m1_2_mu_plot, m1_2_var_plot = m1_2_model_emukit.predict(m1_param_1_x_plot)\n",
    "\n"
   ]
  },
  {
   "cell_type": "code",
   "execution_count": null,
   "id": "80c90618",
   "metadata": {},
   "outputs": [],
   "source": [
    "fig, ax = plt.subplots(figsize=plot.big_wide_figsize)\n",
    "helper_plot_emulator_errorbars(x_plot=m1_param_1_x_plot, y_plot=m1_param_1_y_plot, \n",
    "                               mu_plot=m1_2_mu_plot, var_plot=m1_2_var_plot, \n",
    "                               model_emukit=m1_2_model_emukit)\n",
    "\n",
    "m1_2_rmse = evaluate_prediction(y_actual=m1_param_1_y_plot, y_predicted=m1_2_mu_plot)\n",
    "print(\"RMSE m1 (post experiment design loop): \", m1_2_rmse)"
   ]
  },
  {
   "cell_type": "code",
   "execution_count": null,
   "id": "0a64a917",
   "metadata": {},
   "outputs": [],
   "source": []
  },
  {
   "cell_type": "code",
   "execution_count": null,
   "id": "58a6867d",
   "metadata": {},
   "outputs": [],
   "source": []
  }
 ],
 "metadata": {
  "kernelspec": {
   "display_name": "Python 3 (ipykernel)",
   "language": "python",
   "name": "python3"
  },
  "language_info": {
   "codemirror_mode": {
    "name": "ipython",
    "version": 3
   },
   "file_extension": ".py",
   "mimetype": "text/x-python",
   "name": "python",
   "nbconvert_exporter": "python",
   "pygments_lexer": "ipython3",
   "version": "3.10.6"
  }
 },
 "nbformat": 4,
 "nbformat_minor": 5
}
