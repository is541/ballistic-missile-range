{
 "cells": [
  {
   "cell_type": "code",
   "execution_count": 4,
   "id": "68ec3eb4",
   "metadata": {},
   "outputs": [],
   "source": [
    "from math import *\n",
    "import numpy as np\n",
    "import matplotlib.pyplot as plt"
   ]
  },
  {
   "cell_type": "code",
   "execution_count": 11,
   "id": "88d236d8",
   "metadata": {},
   "outputs": [],
   "source": [
    "class simple_simulator:\n",
    "    \n",
    "    def __init__(self,params=None):\n",
    "        if params is None:\n",
    "            self.v_ex = 2000\n",
    "    #         self.payload = params['payload']\n",
    "            self.drymass = 0.8e6\n",
    "            self.fuelmass = 2e6\n",
    "            self.diam = 1.65\n",
    "    #         self.isp0 = params['isp0']\n",
    "            self.dMdt = 1.4e4\n",
    "        else:\n",
    "\n",
    "            self.v_ex = params['v_ex']\n",
    "    #         self.payload = params['payload']\n",
    "            self.drymass = params['drymass'] + params['payload']\n",
    "            self.fuelmass = params['fuelmass']\n",
    "            self.diam = params['diam']\n",
    "    #         self.isp0 = params['isp0']\n",
    "            self.dMdt = params['dMdt']\n",
    "    \n",
    "    def get_range(self):\n",
    "        h=1e-5\n",
    "        v=1e-5\n",
    "        gamma = self.to_radians(90)\n",
    "        thrust = self.v_ex * self.dMdt\n",
    "        mass = self.drymass + self.fuelmass\n",
    "        area = pi*(self.diam**2)/4\n",
    "        G = 6.6743e-11\n",
    "        M = 5.972e24\n",
    "        R = 6.371e6\n",
    "        g = G*M/(R**2)\n",
    "        dm = self.dMdt\n",
    "        t=0\n",
    "        psi=0\n",
    "        dt=1e-1\n",
    "        tEND=1e3\n",
    "        heights = []\n",
    "        gammas = []\n",
    "        while(h>0):\n",
    "            if t>tEND:\n",
    "                break\n",
    "            try:\n",
    "                dv = thrust/mass - g*sin(gamma)\n",
    "            except:\n",
    "                dv = 0\n",
    "            dpsi = v*cos(gamma)/(R+h)\n",
    "            dh = v*sin(gamma)\n",
    "            if t<5:\n",
    "                dgamma = 0\n",
    "            elif t>5 and gamma==self.to_radians(90):\n",
    "                gamma = gamma-0.0001\n",
    "            else:\n",
    "                dgamma = dpsi - g*cos(gamma)/v\n",
    "                \n",
    "            if mass == self.drymass:\n",
    "                thrust=0\n",
    "                dm=0\n",
    "            else:\n",
    "                mass = mass - dm*dt\n",
    "                \n",
    "            v = v + dt*dv\n",
    "            h = h + dt*dh\n",
    "            heights.append(h)\n",
    "            gamma = gamma + dt*dgamma\n",
    "            \n",
    "            gammas.append(gamma)\n",
    "            psi = psi + dt*dpsi\n",
    "            g =  G*M/((R+h)**2)\n",
    "            t= t+dt\n",
    "#             print(t)\n",
    "        plt.plot(heights)\n",
    "        plt.show()\n",
    "        plt.plot(gammas)\n",
    "        plt.show()\n",
    "        if psi<0:\n",
    "            print(\"Rocket Failed (PSI)\")\n",
    "            return 0\n",
    "        if t>tEND:\n",
    "            print(\"Rocket Failed (tend)\")\n",
    "            return 0\n",
    "        return psi*R/1000\n",
    "        \n",
    "        \n",
    "    def eta(self,h,t):\n",
    "         #for 11,000km MET, from <Gronlund and Wright, \"Depressed Trajectory SLBMS\", Science and Global Security, 1992, Vol 3, p101-159>\n",
    "        # only used for Thrust Vector trajectories\n",
    "#         if self.trajectory == 'Thrust Vector':\n",
    "#             if t > self.TStartTurn and t < self.TEndTurn:\n",
    "#                 eta = -self.to_radians(self.TurnAngle)\n",
    "#             else:\n",
    "#                 eta = 0.0\n",
    "#         else:\n",
    "        eta = 0.0\n",
    "        return eta      \n",
    "    \n",
    "    def density(self,h):\n",
    "        \"Calculates air density at altitude\"    \n",
    "        rho0 = 1.225 #[kg/m^3] air density at sea level\n",
    "        if h < 19200:\n",
    "            #use barometric formula, where 8420 is effective height of atmosphere [m]\n",
    "            rho = rho0 * exp(-h/8420)\n",
    "        elif h > 19200 and h < 47000:\n",
    "            #use 1976 Standard Atmosphere model\n",
    "            #http://modelweb.gsfc.nasa.gov/atmos/us_standard.html\n",
    "            #from http://scipp.ucsc.edu/outreach/balloon/glost/environment3.html\n",
    "            rho = rho0 * (.857003 + h/57947)**-13.201\n",
    "        else:\n",
    "            #vacuum\n",
    "            rho = 0.0\n",
    "        return rho\n",
    "        \n",
    "    def temperature(self,h):\n",
    "        \"Calculates air temperature [Celsius] at altitude [m]\"\n",
    "        #from equations at \n",
    "        #   http://www.grc.nasa.gov/WWW/K-12/airplane/atmosmet.html\n",
    "        if h <= 11000:\n",
    "            #troposphere\n",
    "            t = 15.04 - .00649*h\n",
    "        elif h <= 25000:\n",
    "            #lower stratosphere\n",
    "            t = -56.46\n",
    "        elif h > 25000:\n",
    "            t = -131.21 + .00299*h\n",
    "        return t\n",
    "    \n",
    "    def pressure(self,h):\n",
    "        \"Calculates air pressure [Pa] at altitude [m]\"\n",
    "        #from equations at \n",
    "        #   http://www.grc.nasa.gov/WWW/K-12/airplane/atmosmet.html\n",
    "        \n",
    "        t = self.temperature(h)\n",
    "        \n",
    "        if h <= 11000:\n",
    "            #troposphere\n",
    "            p = 101.29 * ((t+273.1)/288.08)**5.256\n",
    "        elif h <= 25000:\n",
    "            #lower stratosphere\n",
    "            p = 22.65*exp(1.73-.000157*h)\n",
    "        elif h > 25000:\n",
    "            p = 2.488 * ((t+273.1)/288.08)**-11.388\n",
    "        return p\n",
    "        \n",
    "    def Cdrag (self,v,h):\n",
    "        t = self.temperature(h) + 273.15 #convert to kelvin\n",
    "        a = sqrt(1.4*287*t) \n",
    "        mach = v/a\n",
    "        \n",
    "        #Drag function for V2\n",
    "        #derived from Sutton, \"Rocket Propulsion Elements\", 7th ed, p108\n",
    "        #probably not that relevant to other body types\n",
    "        if mach > 5:\n",
    "            cd = 0.15\n",
    "        elif mach > 1.8 and mach <= 5:\n",
    "            cd = -0.03125*mach + 0.30625\n",
    "        elif mach > 1.2 and mach <= 1.8:\n",
    "            cd = -0.25*mach + 0.7\n",
    "        elif mach > 0.8 and mach <= 1.2:\n",
    "            cd = 0.625*mach - 0.35\n",
    "        elif mach <= 0.8:\n",
    "            cd = 0.15\n",
    "            \n",
    "        #use nose cone formula\n",
    "        #theta = self.to_radians(15)\n",
    "        #cd = 2*sin(theta)**2\n",
    "            \n",
    "        return cd\n",
    "        \n",
    "    def to_radians(self,degree):\n",
    "        return degree * pi/180\n",
    "        "
   ]
  },
  {
   "cell_type": "code",
   "execution_count": 12,
   "id": "975ae573",
   "metadata": {},
   "outputs": [],
   "source": [
    "s = simple_simulator()"
   ]
  },
  {
   "cell_type": "code",
   "execution_count": 13,
   "id": "969c820b",
   "metadata": {},
   "outputs": [
    {
     "data": {
      "image/png": "[encoded data removed]",
      "text/plain": [
       "<Figure size 432x288 with 1 Axes>"
      ]
     },
     "metadata": {
      "needs_background": "light"
     },
     "output_type": "display_data"
    },
    {
     "data": {
      "image/png": "[encoded data removed]",
      "text/plain": [
       "<Figure size 432x288 with 1 Axes>"
      ]
     },
     "metadata": {
      "needs_background": "light"
     },
     "output_type": "display_data"
    },
    {
     "data": {
      "text/plain": [
       "0.01303069303139973"
      ]
     },
     "execution_count": 13,
     "metadata": {},
     "output_type": "execute_result"
    }
   ],
   "source": [
    "s.get_range()"
   ]
  },
  {
   "cell_type": "code",
   "execution_count": null,
   "id": "13e7d16e",
   "metadata": {},
   "outputs": [],
   "source": []
  },
  {
   "cell_type": "code",
   "execution_count": null,
   "id": "90d7e707",
   "metadata": {},
   "outputs": [],
   "source": []
  }
 ],
 "metadata": {
  "kernelspec": {
   "display_name": "Python 3 (ipykernel)",
   "language": "python",
   "name": "python3"
  },
  "language_info": {
   "codemirror_mode": {
    "name": "ipython",
    "version": 3
   },
   "file_extension": ".py",
   "mimetype": "text/x-python",
   "name": "python",
   "nbconvert_exporter": "python",
   "pygments_lexer": "ipython3",
   "version": "3.9.7"
  }
 },
 "nbformat": 4,
 "nbformat_minor": 5
}
