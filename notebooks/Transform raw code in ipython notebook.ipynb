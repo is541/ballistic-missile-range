{
 "cells": [
  {
   "cell_type": "markdown",
   "id": "1c4bcfe1",
   "metadata": {},
   "source": [
    "## Transform raw code in ipy notebook"
   ]
  },
  {
   "cell_type": "code",
   "execution_count": null,
   "id": "dc5225c2",
   "metadata": {},
   "outputs": [],
   "source": [
    "# !pip install ipython"
   ]
  },
  {
   "cell_type": "code",
   "execution_count": null,
   "id": "cb8c7ce9",
   "metadata": {},
   "outputs": [],
   "source": [
    "# import nbformat\n",
    "\n",
    "# nb = nbformat.read('Emulation_car_sim.py', \n",
    "#                    nbformat.current_nbformat)\n",
    "\n",
    "# nbformat.write(nb, 'Emulation_car_sim.ipynb', \n",
    "#                nbformat.NO_CONVERT)"
   ]
  },
  {
   "cell_type": "code",
   "execution_count": null,
   "id": "8b9cfba9",
   "metadata": {},
   "outputs": [],
   "source": []
  }
 ],
 "metadata": {
  "kernelspec": {
   "display_name": "Python 3 (ipykernel)",
   "language": "python",
   "name": "python3"
  },
  "language_info": {
   "codemirror_mode": {
    "name": "ipython",
    "version": 3
   },
   "file_extension": ".py",
   "mimetype": "text/x-python",
   "name": "python",
   "nbconvert_exporter": "python",
   "pygments_lexer": "ipython3",
   "version": "3.10.6"
  }
 },
 "nbformat": 4,
 "nbformat_minor": 5
}
